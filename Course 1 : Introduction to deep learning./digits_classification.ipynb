{
 "cells": [
  {
   "cell_type": "markdown",
   "metadata": {
    "slideshow": {
     "slide_type": "slide"
    }
   },
   "source": [
    "# MNIST digits classification with TensorFlow"
   ]
  },
  {
   "cell_type": "markdown",
   "metadata": {},
   "source": [
    "<img src=\"images/mnist_sample.png\" style=\"width:30%\">"
   ]
  },
  {
   "cell_type": "code",
   "execution_count": 1,
   "metadata": {},
   "outputs": [
    {
     "name": "stdout",
     "output_type": "stream",
     "text": [
      "We're using TF 1.2.1\n"
     ]
    }
   ],
   "source": [
    "import numpy as np\n",
    "from sklearn.metrics import accuracy_score\n",
    "from matplotlib import pyplot as plt\n",
    "%matplotlib inline\n",
    "import tensorflow as tf\n",
    "print(\"We're using TF\", tf.__version__)"
   ]
  },
  {
   "cell_type": "code",
   "execution_count": 2,
   "metadata": {},
   "outputs": [
    {
     "name": "stderr",
     "output_type": "stream",
     "text": [
      "Using TensorFlow backend.\n"
     ]
    }
   ],
   "source": [
    "import sys\n",
    "sys.path.append(\"../..\")\n",
    "import grading\n",
    "\n",
    "import matplotlib_utils\n",
    "from importlib import reload\n",
    "reload(matplotlib_utils)\n",
    "\n",
    "import grading_utils\n",
    "reload(grading_utils)\n",
    "\n",
    "import keras_utils\n",
    "from keras_utils import reset_tf_session"
   ]
  },
  {
   "cell_type": "markdown",
   "metadata": {},
   "source": [
    "# Fill in your Coursera token and email\n",
    "To successfully submit your answers to our grader, please fill in your Coursera submission token and email"
   ]
  },
  {
   "cell_type": "code",
   "execution_count": 21,
   "metadata": {
    "collapsed": true
   },
   "outputs": [],
   "source": [
    "grader = grading.Grader(assignment_key=\"XtD7ho3TEeiHQBLWejjYAA\", \n",
    "                        all_parts=[\"9XaAS\", \"vmogZ\", \"RMv95\", \"i8bgs\", \"rE763\"])"
   ]
  },
  {
   "cell_type": "code",
   "execution_count": 29,
   "metadata": {
    "collapsed": true
   },
   "outputs": [],
   "source": [
    "# token expires every 30 min\n",
    "COURSERA_TOKEN = \"Zk9DytDN2ar3ZUQT\"\n",
    "COURSERA_EMAIL = \"xuando.se.fit@gmail.com\""
   ]
  },
  {
   "cell_type": "markdown",
   "metadata": {},
   "source": [
    "# Look at the data\n",
    "\n",
    "In this task we have 50000 28x28 images of digits from 0 to 9.\n",
    "We will train a classifier on this data."
   ]
  },
  {
   "cell_type": "code",
   "execution_count": 5,
   "metadata": {
    "collapsed": true
   },
   "outputs": [],
   "source": [
    "import preprocessed_mnist\n",
    "X_train, y_train, X_val, y_val, X_test, y_test = preprocessed_mnist.load_dataset_from_file()"
   ]
  },
  {
   "cell_type": "code",
   "execution_count": 6,
   "metadata": {},
   "outputs": [
    {
     "name": "stdout",
     "output_type": "stream",
     "text": [
      "X_train [shape (50000, 28, 28)] sample patch:\n",
      " [[ 0.          0.29803922  0.96470588  0.98823529  0.43921569]\n",
      " [ 0.          0.33333333  0.98823529  0.90196078  0.09803922]\n",
      " [ 0.          0.33333333  0.98823529  0.8745098   0.        ]\n",
      " [ 0.          0.33333333  0.98823529  0.56862745  0.        ]\n",
      " [ 0.          0.3372549   0.99215686  0.88235294  0.        ]]\n",
      "A closeup of a sample patch:\n"
     ]
    },
    {
     "data": {
      "image/png": "[encoded data removed]",
      "text/plain": [
       "<matplotlib.figure.Figure at 0x7f2a610f4da0>"
      ]
     },
     "metadata": {},
     "output_type": "display_data"
    },
    {
     "name": "stdout",
     "output_type": "stream",
     "text": [
      "And the whole sample:\n"
     ]
    },
    {
     "data": {
      "image/png": "[encoded data removed]",
      "text/plain": [
       "<matplotlib.figure.Figure at 0x7f2a398a7e48>"
      ]
     },
     "metadata": {},
     "output_type": "display_data"
    },
    {
     "name": "stdout",
     "output_type": "stream",
     "text": [
      "y_train [shape (50000,)] 10 samples:\n",
      " [5 0 4 1 9 2 1 3 1 4]\n"
     ]
    }
   ],
   "source": [
    "# X contains rgb values divided by 255\n",
    "print(\"X_train [shape %s] sample patch:\\n\" % (str(X_train.shape)), X_train[1, 15:20, 5:10])\n",
    "print(\"A closeup of a sample patch:\")\n",
    "plt.imshow(X_train[1, 15:20, 5:10], cmap=\"Greys\")\n",
    "plt.show()\n",
    "print(\"And the whole sample:\")\n",
    "plt.imshow(X_train[1], cmap=\"Greys\")\n",
    "plt.show()\n",
    "print(\"y_train [shape %s] 10 samples:\\n\" % (str(y_train.shape)), y_train[:10])"
   ]
  },
  {
   "cell_type": "markdown",
   "metadata": {},
   "source": [
    "# Linear model\n",
    "\n",
    "Your task is to train a linear classifier $\\vec{x} \\rightarrow y$ with SGD using TensorFlow.\n",
    "\n",
    "You will need to calculate a logit (a linear transformation) $z_k$ for each class: \n",
    "$$z_k = \\vec{x} \\cdot \\vec{w_k} + b_k \\quad k = 0..9$$\n",
    "\n",
    "And transform logits $z_k$ to valid probabilities $p_k$ with softmax: \n",
    "$$p_k = \\frac{e^{z_k}}{\\sum_{i=0}^{9}{e^{z_i}}} \\quad k = 0..9$$\n",
    "\n",
    "We will use a cross-entropy loss to train our multi-class classifier:\n",
    "$$\\text{cross-entropy}(y, p) = -\\sum_{k=0}^{9}{\\log(p_k)[y = k]}$$ \n",
    "\n",
    "where \n",
    "$$\n",
    "[x]=\\begin{cases}\n",
    "       1, \\quad \\text{if $x$ is true} \\\\\n",
    "       0, \\quad \\text{otherwise}\n",
    "    \\end{cases}\n",
    "$$\n",
    "\n",
    "Cross-entropy minimization pushes $p_k$ close to 1 when $y = k$, which is what we want.\n",
    "\n",
    "Here's the plan:\n",
    "* Flatten the images (28x28 -> 784) with `X_train.reshape((X_train.shape[0], -1))` to simplify our linear model implementation\n",
    "* Use a matrix placeholder for flattened `X_train`\n",
    "* Convert `y_train` to one-hot encoded vectors that are needed for cross-entropy\n",
    "* Use a shared variable `W` for all weights (a column $\\vec{w_k}$ per class) and `b` for all biases.\n",
    "* Aim for ~0.93 validation accuracy"
   ]
  },
  {
   "cell_type": "code",
   "execution_count": 7,
   "metadata": {},
   "outputs": [
    {
     "name": "stdout",
     "output_type": "stream",
     "text": [
      "(50000, 784)\n",
      "(10000, 784)\n"
     ]
    }
   ],
   "source": [
    "X_train_flat = X_train.reshape((X_train.shape[0], -1))\n",
    "print(X_train_flat.shape)\n",
    "\n",
    "X_val_flat = X_val.reshape((X_val.shape[0], -1))\n",
    "print(X_val_flat.shape)"
   ]
  },
  {
   "cell_type": "code",
   "execution_count": 8,
   "metadata": {},
   "outputs": [
    {
     "name": "stdout",
     "output_type": "stream",
     "text": [
      "(50000, 10)\n",
      "[[ 0.  0.  0.  0.  0.  1.  0.  0.  0.  0.]\n",
      " [ 1.  0.  0.  0.  0.  0.  0.  0.  0.  0.]\n",
      " [ 0.  0.  0.  0.  1.  0.  0.  0.  0.  0.]] [5 0 4]\n"
     ]
    }
   ],
   "source": [
    "import keras\n",
    "\n",
    "y_train_oh = keras.utils.to_categorical(y_train, 10)\n",
    "y_val_oh = keras.utils.to_categorical(y_val, 10)\n",
    "\n",
    "print(y_train_oh.shape)\n",
    "print(y_train_oh[:3], y_train[:3])"
   ]
  },
  {
   "cell_type": "code",
   "execution_count": 9,
   "metadata": {
    "collapsed": true
   },
   "outputs": [],
   "source": [
    "# run this again if you remake your graph\n",
    "s = reset_tf_session()"
   ]
  },
  {
   "cell_type": "code",
   "execution_count": 10,
   "metadata": {
    "collapsed": true
   },
   "outputs": [],
   "source": [
    "# Model parameters: W and b\n",
    "W = tf.get_variable(\"W\", shape=(784,10), dtype = tf.float32, initializer = tf.contrib.layers.xavier_initializer())\n",
    "b = tf.get_variable(\"b\", shape=(10,), dtype = tf.float32, initializer = tf.contrib.layers.xavier_initializer())"
   ]
  },
  {
   "cell_type": "code",
   "execution_count": 11,
   "metadata": {
    "collapsed": true
   },
   "outputs": [],
   "source": [
    "# Placeholders for the input data\n",
    "input_X = tf.placeholder(tf.float32, [None,784])\n",
    "### YOUR CODE HERE ### tf.placeholder(...) for flat X with shape[0] = None for any batch size\n",
    "input_y = tf.placeholder(tf.float32,[None,10])### YOUR CODE HERE ### tf.placeholder(...) for one-hot encoded true labels"
   ]
  },
  {
   "cell_type": "code",
   "execution_count": 12,
   "metadata": {
    "collapsed": true
   },
   "outputs": [],
   "source": [
    "# Compute predictions\n",
    "logits = tf.matmul(input_X, W)+b### YOUR CODE HERE ### logits for input_X, resulting shape should be [input_X.shape[0], 10]\n",
    "probas = tf.nn.softmax(logits)### YOUR CODE HERE ### apply tf.nn.softmax to logits\n",
    "classes = tf.argmax(probas,1)### YOUR CODE HERE ### apply tf.argmax to find a class index with highest probability\n",
    "\n",
    "# Loss should be a scalar number: average loss over all the objects with tf.reduce_mean().\n",
    "# Use tf.nn.softmax_cross_entropy_with_logits on top of one-hot encoded input_y and logits.\n",
    "# It is identical to calculating cross-entropy on top of probas, but is more numerically friendly (read the docs).\n",
    "loss = tf.reduce_mean(tf.nn.softmax_cross_entropy_with_logits(logits=logits,labels = input_y))  ### YOUR CODE HERE ### cross-entropy loss\n",
    "\n",
    "# Use a default tf.train.AdamOptimizer to get an SGD step\n",
    "step = tf.train.AdamOptimizer().minimize(loss)### YOUR CODE HERE ### optimizer step that minimizes the loss"
   ]
  },
  {
   "cell_type": "code",
   "execution_count": 17,
   "metadata": {
    "scrolled": false
   },
   "outputs": [
    {
     "data": {
      "text/html": [
       "<img src=\"data:image/jpeg;base64,/9j/4AAQSkZJRgABAQAAAQABAAD/2wBDAAIBAQEBAQIBAQECAgICAgQDAgICAgUEBAMEBgUGBgYFBgYGBwkIBgcJBwYGCAsICQoKCgoKBggLDAsKDAkKCgr/2wBDAQICAgICAgUDAwUKBwYHCgoKCgoKCgoKCgoKCgoKCgoKCgoKCgoKCgoKCgoKCgoKCgoKCgoKCgoKCgoKCgoKCgr/wAARCAEgA2ADASIAAhEBAxEB/8QAHwAAAQUBAQEBAQEAAAAAAAAAAAECAwQFBgcICQoL/8QAtRAAAgEDAwIEAwUFBAQAAAF9AQIDAAQRBRIhMUEGE1FhByJxFDKBkaEII0KxwRVS0fAkM2JyggkKFhcYGRolJicoKSo0NTY3ODk6Q0RFRkdISUpTVFVWV1hZWmNkZWZnaGlqc3R1dnd4eXqDhIWGh4iJipKTlJWWl5iZmqKjpKWmp6ipqrKztLW2t7i5usLDxMXGx8jJytLT1NXW19jZ2uHi4%2BTl5ufo6erx8vP09fb3%2BPn6/8QAHwEAAwEBAQEBAQEBAQAAAAAAAAECAwQFBgcICQoL/8QAtREAAgECBAQDBAcFBAQAAQJ3AAECAxEEBSExBhJBUQdhcRMiMoEIFEKRobHBCSMzUvAVYnLRChYkNOEl8RcYGRomJygpKjU2Nzg5OkNERUZHSElKU1RVVldYWVpjZGVmZ2hpanN0dXZ3eHl6goOEhYaHiImKkpOUlZaXmJmaoqOkpaanqKmqsrO0tba3uLm6wsPExcbHyMnK0tPU1dbX2Nna4uPk5ebn6Onq8vP09fb3%2BPn6/9oADAMBAAIRAxEAPwD9/KKKKACiiigAooooAKKKKACiiigAooooAKKKKACiiigAooooAKKKKACiiigAooooAKKKKACiiigAooooAKKKKACiiigAooooAKKKKACiiigAooooAKKKKACiiigAooooAKKKKACiiigAooooAKKKKACiiigAooooAKKKKACiiigAooooAKKKKACiiigAooooAKKKKACiiigAooooAKKKKACiiigAooooAKKKKACiiigAooooAKKKKACiiigAooooAKKKKACiiigAooooAKKKKACiiigAooooAKKKKACiiigAooooAKKKKACiiigAooooAKKKKACiiigAooooAKKKKACiiigAooooAKKKKACvPfjt%2B1J8FP2b5NGsfil4g1Maj4ilnTQNB8OeF9R1zVNR8lVed4bHTbee5kjiVkMkixlI96biu5c%2BhV4N%2B0P8D/j5/wANJ%2BDv2tv2bLLwfrWueH/B2seFNX8KeOdcutLtLywv7mwuxcQXtraXj288U2noCpt3WVJSCUKK1ABpf/BTL9izWLvxPb2nxXv0h8FWsk/jLUrvwXrEFjoIS0iu9l5dy2iwWsrQzRskMjrJIWKorMrKL2n/APBQ/wDZK1HwBrXxFTx/q9vB4f1ay0vVdE1DwNrNrrkV5ebfscC6PNaLqEr3AYGER27eaAxTcFYjy2b9gH4y%2BMf2a/jn8NfGHinwppHin4o/FS38daHc6U1xeWFpeW0OiywQ3IkihkkiN3pRRwoyYHGDuJVaPi79i/8AaV%2BLmr/Ef45fG34S/CjWvFnjWx8KaPp/gKy%2BI2s2Wm6fY6Hcaldw3qa7b6al5DqDXOqTOksVoPJSKNFZiWcgHsviH9vv9mzwv4a8OeI9XvvG3meK0v5NE8P2vwm8SXGuSRWUscV3NJpMWntf28MLzQq8s0CIpmiy37xM%2Bmaz8RPBHhv4e3XxX8T%2BJbbSvDljo76rf6vqrfZYbSySIzPPMZdvlKsYLNvxtAOcYNfGHin9hH9s/WPgX4X8Nay3hfxV470a58RHRfGV/wDHbxNpGr%2BCLW%2BuUktLO11q1sJLzXIYkjhEy3qw/aTbReYCFGPUfjR/wTotfj1%2Bzb4n%2BHHxD%2BOfjW78d%2BMPhfH4Z17xS3jbWho818tpDE2oJoS3y2FuzzQLK3kRRSEPIBIrSM5AOkg/4KUfsZf8K58V/FbWPite6Jo3giysr7xQ/ifwdq%2Bk3NlZXkxhtb37LeWsVxJaSyK6pcxxtC3luQ%2BEYjj/AI3f8FZP2d/hn8ENU%2BMfgPRfFXiqbQfiD4X8L674Y/4QXXbHU7A6zqVrax3T2cmnNdeV5Fw88DeT5d48aW8MhknjB8r1T/gmJ8ZPHfwq8faR4i8DeG9G8Y%2BI9D0fR7DxDqv7RfjPxut3aWusW%2BoTRyf27AfsEZ8likUSzHe%2BGkxknv8A9qH9gz40/GD4g/F/4g%2BBfEPheOTxfB8LbzwlZ6tfXMSvf%2BE/EdzrUsN40dvJ5ENwGt4VljEzrl2MfyKrgHqFh/wUE/Zb1H4m2XwZh8T%2BJo/Fd5oun6xLoF38N9egudO0%2B9adILu/SSyU6dDut5VeS68pYiFEhQum6j4a/wCCmH7FPi3wZ4s%2BIWkfGC4TR/Bfgi68Zaxe6h4S1W0Fx4et0Z5tWsVntUbVLNVQ4nsxPGxZArEugbB0P9kP4ofEP4mfG74g/G9fD2gxfGj4O%2BHfCF1Y%2BE9duNRl0u4tE11Ltlnns7XzYwNViMT7FZikm6OPA3fN37Y37Kn7UOj/ALDHxS%2BJv7TF34AtIfhD%2BxT8QfBHhePwFqF5cNrzXukWxn1G6W5toBYqE0i3CWcbXAVppCZ22oKAPrPw9/wUl/Yy8TaHrHiPT/i1dQWehppU1/JqnhLVbJmtNSu1s7HUIUuLVGubCWdgovoQ9qoDO0qorMPT9E%2BLvw88R/FLX/gvofiH7T4k8LaXp%2Boa/YR2k22zgvmuBa7pinlF3%2ByzHy1cyKoRmVVkjLfJOofsz%2BIPFegeKfjb/wAFIvF/wz8J%2BBbf9nu5%2BHUlx4f8QTLay6beyQyXmq3k17BbpYOTBbCG2QzCAmT/AEiQsuOw/wCCPngP4u2f7I9r8f8A9pDUDf8AxJ%2BL15H4n8V6g9nJbtJCLSCy01fKl%2BeH/iX2lpI0TYKSzTZAYtkA%2BqqKKKACiiigAooooAKKKKACiiigAooooAKKKKACiiigAooooAKKKKACiiigAooooAKKKKACiiigAooooAKKKKACiiigAooooAK8R0j/AIKMfse6ld69Z6n8Urzw83hzw5c%2BINQk8a%2BEdV0GObSbd0jnv7WTUrWBb63R5IlaW2MqAyxjOXXPtN7FczWcsNndCCZ4mWKYx7/LYjhtp64POO9fmJq//BHL9uX4v6t4X1z43fHHQ31vw14P1Cz1DxRqHxW8TeJx4h1v7ZpV9a6idLvoobLSbaS50xfPsLIBRHJtWWQKgUA%2B2X/b/wD2YbX4aN8WNY8QeKtK0ttcg0axs9c%2BGWv2GqanfzIZIYLLTbixS9v2kQM6/Z4ZAyo7AkIxHReA/wBqz4H/ABH1%2By8J%2BHPEOqQ6vf8AhSfxJDpGteFdS0y7TTYbv7JLLLDeW8UkDrP8hhkVZe%2BzbzXk3xO%2BDn7bvxib4e/G3XPBvwq0P4h/Cjx1NrHh/wAM2vjjUr/Rdcs7jSbvTLmO4vn0qGaxmKXskkbpa3AjMQU%2BYJGxV%2BJPwG/bg1/4y%2BHf2mvA%2BjfCu08WX3ww1XwX4x0LUvFepSWGkLcX8N1a39lcJpwk1AxCN1kt5YrQSlxiWLHIB3Gk/wDBRv8AZA8R694F8LeFfiNqus6n8SfBuleLfBunaJ4H1m9nvND1F9lrqMiQWjNa2%2B7HmSTiNbcMpm8oMCdj4a/tufs3fFf4jXPwn8M%2BL9Ws9ft9LudThsvE/gzVtEW/sbeRI57uyl1G1gjv4I3liDy2zSIvmISQGUnyj9hT9hL4sfsw6/8ADjWfHniDw1dnwd%2Byl4R%2BGN%2B%2BkXM8rNq2lvM1zNF5kEe61bemxmKu235o0wK8a%2BGn/BKv9sbxP8UfC/ib9qb4w2eqRaf4A8V%2BF/GniaD4v%2BJNavPEUur2KW39p2umX0Men6EcqWNpaKUXKgTOI1WgD6l8J/8ABRf9kfxrosfirQfHeuf2Hcarpen6f4lvfh/rdrpWoy6lex2VlJaX09mlteQS3M0UYuIJHhBlQs4VgT6X4W%2BLvw88a/EDxT8LvC/iH7XrnguSzj8T2iWkwWxkuoPtEEZlZBG7tCVkKIzMiyRlgokTd8w%2BOPAnxF8K/wDBPbxp8CP%2BChnif4VeCPAWg/DSLQLb4meHfFt2GadI0trXUntLqzgTTZlmFvJDBHcXTGcoiOTtDdr/AMEr/h98WPDf7ImlfFX9oqwS3%2BJ3xYvpfHXxEhW3aL7Pf36xmG02N8yfZbGOys9pyQLXBoA%2BjaKKKACiiigAooooAKKKKACiiigAooooAKKKKACiiigAooooAKKKKACiiigAooooAKKKKACiiigAooooAKKKKACiiigAooooAKKx/iB8RPh/8JvB1/8AET4p%2BOtG8M%2BH9LiEmp674g1OKys7RCwUNLNMypGCzKMsQMkDvVe9%2BLPwr034aL8aNR%2BJfh%2B38HNpUepr4sn1mBNMNjIiul0Lov5XksjKwk3bSGBBwaAOgrxf49eP/wBov/hovwL8CPgL4z8FeH01/wAFeJde1fU/F/gu71ok6dd6Hbwwwx2%2BpWPlhv7UlZmZnz5aABeSfTPhz8T/AIafGLwlb%2BPvhH8Q9C8U6Fds62mteHNWhvrSYoxVwk0LMjFWBU4PBBBryb4i60ll/wAFKvhDosijF78E/iGyN33R6t4NOPyZj%2BFJtLcuEJVHaPZv7tWX/wDhB/8AgoX/ANHQfBn/AMMPq3/zUUf8IP8A8FC/%2BjoPgz/4YfVv/mor2aimQeM/8IP/AMFC/wDo6D4M/wDhh9W/%2Baij/hB/%2BChf/R0HwZ/8MPq3/wA1FezUUAeM/wDCD/8ABQv/AKOg%2BDP/AIYfVv8A5qKP%2BEH/AOChf/R0HwZ/8MPq3/zUV7NRQB4z/wAIP/wUL/6Og%2BDP/hh9W/8Amoo/4Qf/AIKF/wDR0HwZ/wDDD6t/81FezUUAeM/8IP8A8FC/%2BjoPgz/4YfVv/moo/wCEH/4KF/8AR0HwZ/8ADD6t/wDNRXs1FAHjP/CD/wDBQv8A6Og%2BDP8A4YfVv/moo/4Qf/goX/0dB8Gf/DD6t/8ANRXs1FAHjP8Awg//AAUL/wCjoPgz/wCGH1b/AOaij/hB/wDgoX/0dB8Gf/DD6t/81FezVm%2BMZ5rXwjqt1bSskkemztG6nBVhGxBHvmgDyv8A4Qf/AIKF/wDR0HwZ/wDDD6t/81FH/CD/APBQv/o6D4M/%2BGH1b/5qKveN/wBoD9hr4W%2BJ7nwH8S/jh8KfD%2Bt2AjF7pGv%2BJ9NtbyDfGsieZHNIHUsjq4LDlWB5BBrJ/wCGv/8AgnB/0dF8Ef8AwttH/wDjtc0sbgoScZVYpr%2B9H/5I9yjwxxPiKUatLAV5Rkk01QrtNPVNNUWmmtmm0%2BjZY/4Qf/goX/0dB8Gf/DD6t/8ANRR/wg//AAUL/wCjoPgz/wCGH1b/AOaiq/8Aw1//AME4P%2Bjovgj/AOFto/8A8dr0rxXpHw%2B8IeFtS8Wah4HtJrfS9Pmu54rLRPtEzpGhdljiijZ5HIUgIiszHAAJIFaUsRQr39lNSt2af5NnHjspzbK%2BX67hqlHmvb2lOpTvbe3PCF7XV7XtdXtdHnv/AAg//BQv/o6D4M/%2BGH1b/wCaij/hB/8AgoX/ANHQfBn/AMMPq3/zUVxnwM/b4/Y6%2BN3hf4YX1r4F17Stf%2BKvhy31nw/4VvPhTq7XS27/AGNZZ3K2G0WkUl9bo18SLUh94l2ZYb0/7V/7LF7oeoahoGiw2t7pOveHNO1HS/GngXVtAuI11nVYtNs51hutO8%2BSOWZ5EilWIwPLEyPNCqySx6nnmr/wg/8AwUL/AOjoPgz/AOGH1b/5qKP%2BEH/4KF/9HQfBn/ww%2Brf/ADUVS%2BHn7W/7EPxS8b3vw/8ACGt2JvrBtaWW51PwXe2FhK%2BkXZtNTSG9urWO2uGtplKyrFK5QDeRs%2BatT9oT4meCvhF8OdE8UfD/AOFfh/xbrHi/xDpuieDdN%2B0xWlpqF1euNkkl2kM3lW6QiW4eRI5W8uJtiOxVSAQf8IP/AMFC/wDo6D4M/wDhh9W/%2Baij/hB/%2BChf/R0HwZ/8MPq3/wA1FO%2BCXxFsvjZ8DtX8e6Z8BNDs/F%2Bh6lrWi6j4Qkvo2txrOnXM9q8CXv2dd1vLJCrR3BhVvKmR2iVt0Y8a%2BJv7eB%2BDHw%2B8a3vxS/Zq%2BGmj%2BKfA3xA8NeGdYS5%2BIwj8NQrrJtTFdS6vJpSSQCGO5DyxvZgqNhBKyq9AHsf/AAg//BQv/o6D4M/%2BGH1b/wCaij/hB/8AgoX/ANHQfBn/AMMPq3/zUV5Z8Yf209N%2BFusfCHwinw1%2BAbaj8VvDmsarbaxrvxlGn%2BHw1lPpkUVtY6h/Y8rajLcDU1dAIIeIJMbuKn%2BJP7cngP4f/toWf7Iy/ArwhcXFxr2j6WkF14lit/EOoLfw%2BadS07SDZt9u022G4XF19oj8r7NdfI3kgOAemf8ACD/8FC/%2BjoPgz/4YfVv/AJqKP%2BEH/wCChf8A0dB8Gf8Aww%2Brf/NRXJ%2BF/j54n079pvxD8C/jp%2Bzn8M/Deg%2BGfhxL4x1nxlonjuTUE02za8eC0W7huNItFg89LbUJd4mcILCQHIIYZHwq/bW8HfEf4GeNfi7qf7LaaLqeh%2BPz4V8H%2BDruSI3/AIiubi2sp9MV1aBfsU0630PmxMHFqFlaRysTlQD0P/hB/wDgoX/0dB8Gf/DD6t/81FH/AAg//BQv/o6D4M/%2BGH1b/wCaivLtQ/bF8Qxfsc%2BAf26NM/ZA8HzeB/Enw00Lxf4ot7jxmItT00ajDBKbGwgGmsmpTIJ1VfMltPOcoijc2B0Pw3/ag8N/En9tv4gfsk2Xw1%2BE1lD8P9bh0%2B7%2B2fEFB4mv45NB03VRewaGNOwbUPqSW5lN0BmCVsZAjIB2H/CD/wDBQv8A6Og%2BDP8A4YfVv/moo/4Qf/goX/0dB8Gf/DD6t/8ANRWJ8Fvir8QPi7bfFrwxcfsr%2BBdH8ZfDTxrHoFjo83jFptP1VZdJ03VIZ5bxNL32pMWoqrRrbzhXiOHcNkc98Ifjn8evjT8NvEvirwn%2Bxh8K11Tw38SdU8MMtz8UJ00i7t9OURXV7He/2D5uUvkubPyja43WruZAMCgDvP8AhB/%2BChf/AEdB8Gf/AAw%2Brf8AzUUf8IP/AMFC/wDo6D4M/wDhh9W/%2Baivn34hf8FT/hf4T8L/AA28X6N%2Bzb4a8n4h/DzTPFmnaV4n8UQaZqOri8uFhXStChWznTW9RQsrGBZIFKz2zB8TZX1DQf2qtD1j4%2BWfgSX9m7RIfAer/EfUvAOi%2BNhqqNdz6/Y2FzdziTT/ALIFitN1leWyz/aWdpoVBhVJFkoA7L/hB/8AgoX/ANHQfBn/AMMPq3/zUUf8IP8A8FC/%2BjoPgz/4YfVv/morwr4K/wDBR7wv8U/2Cbz9uy%2B%2BCHwkexTRtAvo9C8HfFFNZOjNqRtxImuT/wBlQDSVs1uUlunCXBihhuJCv7oB/bv2NPjL4I/a0%2BElz8T4vhh4TtYrXxFfaVFf%2BGNVi1rRtWFtIEN3p1/9ng%2B12zHKeZ5SYkilTB2bmAJ/%2BEH/AOChf/R0HwZ/8MPq3/zUVQ8D%2BOP2rPB37Vnhz4I/G74j/D3xNo3ib4e%2BIdchm8K/Dy%2B0W6tLrTb7RLdFZ7jV75JY3TVJSVCIwaJCGxkH1DxZ4T8Lab4W1LUtN8OWNtc21jLLb3FvaIjxuqFlZWUAgggV5944/wCUhfwv/wCyM%2BPP/Tt4QoA9mooooAKKKKACiiigAr5x%2BE3ir9u/466Pr3jvwv8AG/4SaBpdv8QvFWh6XpV/8H9Uv7iK10vXr/TIWluE8RQLLI8dmrsyxRrucgKABX0dXjP7B/8AyRDXP%2ByzfEf/ANTXW6AD/hB/%2BChf/R0HwZ/8MPq3/wA1FH/CD/8ABQv/AKOg%2BDP/AIYfVv8A5qK9mooA8Z/4Qf8A4KF/9HQfBn/ww%2Brf/NRR/wAIP/wUL/6Og%2BDP/hh9W/8Amor2aigDxn/hB/8AgoX/ANHQfBn/AMMPq3/zUUf8IP8A8FC/%2BjoPgz/4YfVv/mor2aigDxn/AIQf/goX/wBHQfBn/wAMPq3/AM1FH/CD/wDBQv8A6Og%2BDP8A4YfVv/mor2aigDxn/hB/%2BChf/R0HwZ/8MPq3/wA1FH/CD/8ABQv/AKOg%2BDP/AIYfVv8A5qK9mooA8Z/4Qf8A4KF/9HQfBn/ww%2Brf/NRR/wAIP/wUL/6Og%2BDP/hh9W/8Amor2aigDxn/hB/8AgoX/ANHQfBn/AMMPq3/zUUf8IP8A8FC/%2BjoPgz/4YfVv/mor2aigDxn/AIQf/goX/wBHQfBn/wAMPq3/AM1FH/CD/wDBQv8A6Og%2BDP8A4YfVv/mor2aigDxn/hB/%2BChf/R0HwZ/8MPq3/wA1FH/CD/8ABQv/AKOg%2BDP/AIYfVv8A5qK9mooA8Z/4Qf8A4KF/9HQfBn/ww%2Brf/NRR/wAIP/wUL/6Og%2BDP/hh9W/8Amor2aigDxn/hB/8AgoX/ANHQfBn/AMMPq3/zUUf8IP8A8FC/%2BjoPgz/4YfVv/mor2aigDxn/AIQf/goX/wBHQfBn/wAMPq3/AM1FH/CD/wDBQv8A6Og%2BDP8A4YfVv/mor2aigDxn/hB/%2BChf/R0HwZ/8MPq3/wA1FH/CD/8ABQv/AKOg%2BDP/AIYfVv8A5qK9lZlQbnYADqSarf25opm%2BzjWLXzP7n2hc/lmk2kJtLc8j/wCEH/4KF/8AR0HwZ/8ADD6t/wDNRR/wg/8AwUL/AOjoPgz/AOGH1b/5qK9kMsYTzTIoXH3s8Vi%2BJvid8NvBdqb/AMY/ELQ9JgHWbU9WhgQfi7AUpSjBXk7IUpwgryaS82l%2BdjzX/hB/%2BChf/R0HwZ/8MPq3/wA1FH/CD/8ABQv/AKOg%2BDP/AIYfVv8A5qKlvf8AgoV%2Bwfp1%2B2mXn7ZPwxSZDh1HjixIU%2BhIlxn2zWf4p/4KY/8ABPrwfp39qat%2B2P8ADyaLBO3S/E0F9J/37tmkf9K5XmOXRTbrQ0/vx/8Akjhlm2VQTcsRTVv78P8A5Mt/8IP/AMFC/wDo6D4M/wDhh9W/%2Baij/hB/%2BChf/R0HwZ/8MPq3/wA1FeYyf8Fp/wBinV5Wi%2BFg8fePCrFVPg/4eahOHYdlMscYNMf/AIKv3MkbXmnf8E3P2op7XGUum%2BFgjVh/eG656e9c39uZR0rJ%2BnNL8YxkvxOT/WPI2/drqX%2BFSl%2BMISX4nqP/AAg//BQv/o6D4M/%2BGH1b/wCaij/hB/8AgoX/ANHQfBn/AMMPq3/zUV4J4i/4LW6dpxa30z9h/wCKtpcJw6%2BMjp2hxg%2B7z3JGPeuO1D/guR8T43b7B%2Byb8N1TPBv/ANq3wvFIv%2B9ECWU%2B1c8%2BJclpvWr90Zf/ACKPYwqx2PjzYPBYmsu9PCYuovvjhmvxPqz/AIQf/goX/wBHQfBn/wAMPq3/AM1FH/CD/wDBQv8A6Og%2BDP8A4YfVv/mor411j/gvf8UdFUyXn7NPwwIH8Nr%2B0TpVyR/35ibNcpqf/Bx145E32S2/Z%2B8D2MpOF83x3d34J/7dbE5rlnxhw/T%2BKq//AAGR7mG4W44xn8DI8wn6YDF/rRifev8Awg//AAUL/wCjoPgz/wCGH1b/AOairf7K3xG%2BNPjDWPih4E%2BOmv8AhfVtU8A/EKLQ7PVfCfhq50m3urWXQdH1NWe3uL28ZZFk1GVCwl2lY0O1TnPwDbf8F5v2tNWw/hz9nLwdqQb7gsbHxFIT%2BP2MZr6f/wCCRHxv8f8A7R3hL40fGf4oeB4/Deu6z8Zl%2B3aNFBcRLb%2BV4W8PQJhblVlG6OJH%2BZRnfkcYNduXZ/lua1nSw7baV9YtK2i3enUxx2QcT5TTVTM8txOGg3ZSrUZUk3vZc0m72TduXZPU%2BuqKKK9o8wKKKKACiiigAooooAKKKKACiiigAooooAKKKKACiiigAooooA5X43eIvD3hL4T674i8U6Fqmp2VrZFpLLRfDV3rF1I5YCPyrOzhmnmYOVOI42K43cBSR88/slfHfTPhP/wS6%2BH134l%2BAfxS1TWfAHwW0VNV8C/8Kl1qLVrm/sLK3t3soLa6tIzLP9pTCAcEDzQfLUyD6wooA8A/4J3WF1e/C7xT8U/E9nq9p4r8f%2BOrjxD400/UvBWq6FBYag9nZ26WlpBqlrbTzwQ2ttaRG68sLcTRzy4RneNPPPi3cfFPw/8A8FkPgGnjfxr4f1DRda%2BHHxIg8MadpXhqeyurGNX8NyyJdXEl7Ml4zGNCrRw24XY2VfcNv2FXxj%2B2dq7aR/wWM/Yt3NiO78P/ABOtpDn%2B9YaOVH/fSrXLjJ%2Bzoc3nH8ZRX6nu8OYb63mnsu9Os/8AwGhWl/7afZ1FFFdR4QUUUUAFFFFABRRRQAUUUUAFFFFABWX45/5EnWP%2BwVcf%2Bi2rUrL8c/8AIk6x/wBgq4/9FtQByHjn9kX9lD4oeKbrxz8S/wBmH4eeItbvtn23WNd8FWF3dXGxFjTfLLEzvtRFQZJwqgDgCsn/AIYH/YV/6Ms%2BEv8A4bnTP/jFcj8c/wDgq1%2BwN%2BzX8U9U%2BCnxr%2BPX9i%2BJtF8j%2B09M/wCEW1W58nzoI54/3kFq8bZiljb5WON2Dgggcl/w/N/4JZf9HRf%2BWTrn/wAhV4dbGcNRqyjVnR5k3e/s7363ur3731NF4kYjAr6ss6nTUPd5ViqkVG2nLyqulG21kkltZHrf/DA/7Cv/AEZZ8Jf/AA3Omf8AxivVL6zh1Gxm0%2B5z5c8TRybTg7WGD/OvlD/h%2Bb/wSy/6Oi/8snXP/kKvqjxBqs2haDfa3b6NealJZ2cs6adp6obi6KIWEUQdlUu2Nq7mUZIyQOa7MDXyqtzfUpQdrX5OX5X5UvO1yZcU1eJfjx8sT7PvWnV5ebtzVKnLe3S17dbafPf7N/7CPjP4KjwMvi/48WutN4A%2BDdz8ONFudC8Jvpc7aez6d9nund725H2qNdPG5lCo7yhlSIJsbyv4N/8ABGp/hal/JcfGjwolxfW/gGC5m8K/CpdJN%2B3hnxEmtfbb5vt80l7f3uwwzXLuMEiQIcGNvY7/AP4KQfAkeArn4k%2BGtJ1fV9KtPhtoHje5vBf6Vp0EOnazPLFYxyXOp31tbwzsIJ5GSSVVVYvvFnjR/O/FP/BVjwprXg/SPjN8I2tpfA198EPiR4w1G7l06LVL601HwxquiaeYI1ttQS1uoxJfXwYR3PlzmKForlYzvf0CT0T4f/sO6h8Ob/wTrGjfFeCW78E%2BKvHWuWpuPDpMdzJ4iv728WN1W5BC27XYUkNmYR5/dbvl7f8AaE%2BBPiP44/DnRNK07x9Z6H4u8M%2BIdN1/QfEf9htc2kOpWjgkyWf2hGkt5UaaF4hOriOdtsquA48x8d/8FA7tf2g/A/wc%2BGHwl1y50TWvjDceB9d8eanYQHSZbm20jULy6tbQx3YuVnimtEjMstuLcmOeNXZwMeh/tJ/tDal8K/2arn4y/DzQTc6pqN5pOl%2BGbPxHp1zZKt/qmo22m2jXUEqxzxxpPdxPIhCPsVgNpwQAUfhd%2Bzr8W/g78G9U8B%2BCvjbo48S64fEmrat4rvvBbyq3iPU7p7qG9itReqqWdtJLIos2d3kiSFTcqyO8vN/s%2BfsrftM/s8/AaX4YeH/2gvh3qHiR9ZGpS%2BMNQ%2BE1%2B7apdS7mvbvUYm14yXV3PIQ/nJPCkYUIsflqiL1X7L/xe%2BKvxBb4j/DX4tS%2BHrrxd8NPG3/CP3useHdLnsdO1QTaTp2q29yltNcXElv%2B61KOJ4zNId8DsG2soHjfjb9rL9tD4daZ8ZvAtrb%2BCfiB4t%2BHnhfw/qOn6p4H%2BHerNbWuoahdTJLpVxpseoXFxeXENrHDdhYJ45Gjuot0UYeNpADprz9hL4t6d%2By5N%2Byv4H%2BPnhO00nxJF4mHj6%2B1n4XNfPePrt/cXt3/AGdEupRQ6fGj3lwsUUqXaqoh3eYUYyN1b/gndrlx8SZL3SfjrGngi%2B8ceE/FmqaFqXhc3etf2h4fg0%2BK0ittVN2ot7WQ6ZbNNEbaRmM15tkQXLYy/Hv7eHjHwr%2ByDe%2BNfht4z8K/EH4oXM2rWWjWaeBtT8O2tlc2MD3N2%2Bo6VeXct7aJaW6eZLHLLG8rPBEpia5iNW/jT%2B0N%2B1zovgj4NfED4UeMvhxHN8UdX8L6QnhDWfAF/d3E9xej7Xqc8N5Fq8KxR2%2BnRXtysbW8h/0QhnYPlQDv5f2KvAPjCf4xD406rc%2BJrX4w6raHVLe0mudLex0m0sre3tdNjntpxMFSSO4uDIroWkvZuFU4rhfh7/wSf/Z98J3HiaXxP41%2BJGt/2t8SH8X6Dd/8Lf8AFVtfaJO2lR6aUW9TVTcSuYvtAaUupkScRsCIkxk%2BAf8AgoxD4v8Aj34y07XPiB4f0Xwj4U8ReI9Cs/DM/wAP9WfUtYudEhmN40WtNOmnC4DW1zMNPSKWf7LEJi6hj5dv9j79rb42/tefCrWNa8L/ABb%2BHdl4w1TwzpGu%2BG/D158L9ctotAtb0yMJZpLq9hPiC2Kq0cd7Zi1gkkgkIOGAUAx/Cf8AwTN%2BM3wy%2BGvwD%2BDfw9/am0G88K/AzwjY2cehePPAWo63Dreu26oqay5/tyF4xDtc2tmzSwWhcGMHyLbyPXPHn7NXxR%2BKfx%2B8J/EXx78XPDh8JeBvFjeI/DXh7R/Asltq32w6dcWKrc6m9/KkkOy6mJWK1hZwI0ZyocSeL6j/AMFIviNN%2Byx%2BzP41DaFonjf48fD2z8TanexeAdY8RWWmouj2t9era6Tpswvbo%2BbdRIiecPKh82aSRhCVe7rX/BRtr/45%2BHPhd4W%2BN/gWz0G38IeFNb8R%2BNn%2BHusatp2uf21PNHAtvPaXawaHbyLADFdX0syO93HGquYXLgHqP7P37OX7RHwk%2BKnxb%2BInjT49%2BDNdt/ibrya3aWGk/DW706TSL2LS7DTIN0smr3AuYhb6fCzoEiZ5Hdg6KRGvKeO/2AviHefsVeCP2MvhV%2B0Np%2Bj2GjfZk%2BIGp6/4Nm1EeN4AryX0NzHb6haSQJfXbtPcbJiXV5YfuStnoV%2BMv7RnhX9sfTPgD4m8ReBPEOl%2BKtC1zWLDTtA8N3tpqPhaxtZoUsrm/nkvZo7uOdpfJO2G1JlVvL8xY5NvEaB%2B2D%2B0xY/s9a9ceLx4FvviNB8dI/hvouoaZoF7a6KrzalbWq3s1rJeyzuIYppJWjW4QzNCEDQ79ygF/wCPH/BPn4lfHS21WzvPj74c0m38bfCqz8A/ES0sfhzI0L6fb3F5KJtEVtRJ0a4Ivpl3ubwAw2rbd1upO3p37DHibTPjhB42tvjXa/8ACFaV8QtT8e%2BHvBzeFSbq08Q32n3NpM8t99q2z2Ye9vLlbcW6SCaYZnKIqVx3if8Aa/8A2qtG%2BDdv4xtpvh8Na8G/H7Svh/8AEhZfDd81tq9re%2BIdM01LnTkF%2BGsZGtdSjnIme6WORTH%2B9A3nuP2o/it%2B1N8L/jd8MPDPwo8c/D%2B40v4g/ECx0MeFtY8B30%2BopYxQT32q3Yv4tWijj2WdpcGMtaMomeBG37xkA53xV/wT9%2BKfxQufFfjr4p/tD%2BH28aa3ZeFbXR9Q8KfDmTTtKs49A1ltYtFurGbUrmS/WS4Zo5VNzGDASkYiZmkb1j9mL4Ba58CNG8VXXjHx1Z%2BIfEPjfxlc%2BJfEV9pOhHS7BbqWC3t9lraNPcNBGIrWItumkZ5WlkZsyEDxXW/28vjdr/x3%2BIHhL4P/AA/0XU/COifCHxPrPgS7exubi/8AEOvaNdW1tKUWKVQ9i1xctapGqCWSS0kkSTy5IicST/gox448HfswDxl4t%2BIHhvVviFqHjfRfC40n/hTfiHQH8N3moJG4W80W6up9RvGWMTyQrD5RvGWOGIqWMoAPr3xz/wAiTrH/AGCrj/0W1eW%2BOP8AlIX8L/8AsjPjz/07eEK0/g18T5PjB%2BzDJ44u/iJo3im7lstUttQ1bQvC15ocP2iCaeGSBtPvZ5rmymiaMxSwzSF1ljfIX7i5njj/AJSF/C//ALIz48/9O3hCgD2aiiigAoorN8YeMvCHw88L3/jjx/4r03Q9F0u2a41PWNYvo7a1s4VGWkllkISNAOrMQBQBpUVzmmfGH4R618Mh8a9H%2BKXhy78GnT3vx4tttct5NMNogJe4%2B1K5i8pQrZfdtG05PFc7q37X/wCyXoPw2034y65%2B1F8OrLwfrF01tpHiu78bWEem306lg0UN00oilcFHBVWJGxuODQB6LXjP7B//ACRDXP8Ass3xH/8AU11uvYbC/sdVsYdU0u9iuba5iWW3uLeQPHLGwBV1YcMpBBBHBBrx79g//kiGuf8AZZviP/6mut0AezUUUUAFFFFABRRRQAUUUUAFFUPE3inwx4L0WfxJ4x8R2Gk6dbLuub/U7xIIIh6s7kKo%2Bpr52%2BIf/BXz9gLwJq3/AAjOj/G1PGWsuxEGj%2BANMuNZlnI6hHtkaI/jIK5cTjcHg1evUjH1aX3Ld/JM48XmOX4BXxNWML/zSSb9Fe7%2BSZ9MUV8kH/gqB8SPF4KfBX/gmh8fNbLcQXPiHw1FolrKexEs8jfL7kfhTR4%2B/wCCzfxdO7wv8BfhD8I7KTlj4x8TXGu30a/7AsQIS3swxXH/AGzhJ/wYzqf4YSf4tQX4nB/rBgZ6UI1Kr/uU5tffKMI/ifXNcZ8YP2i/gL%2Bz9p8Wp/G/4x%2BG/CkVx/x7f27rEVs0/wD1zR2DP/wEGvnqX9jz/gph8Qozb/FX/gqK%2Bj2Mw23OmeAPhrZWcm09fLvHfzozjoccda634M/8ErP2MPhDqsnjDVvhs/j3xTc833i74l3Z1u/uXxjeTcAxo3X5kRTz1o%2BtZpX0o0OTzqSX/pMHKT%2BbQvruc4nShhvZ/wB6rJL7oU3KT%2Bcomf4i/wCCyX/BM/wwG/tH9q7RpivbTdMvrzP08iB81i/8Pmv2WNaP/Fsfhz8WvGwP3G8K/DO9lD/TzRHXv%2BsH9nL4AaUuveID4J8E2Kfdvbz7HpsS49HbYBj614545/4LCf8ABO3wRqP9hx/tE2ev6gxIisvCOl3eqtIR/de2ieM/99Vy4jE4zDf7xi6VP/t3X/yap/7afQ5NwX4lcS/8iyjKqu9HC1aiXrJy5FbzkrdTD/4eieP9a%2BbwT/wTF/aOuk7PrHgmLTww9R5kzcUjf8FB/wBsHVR9m8H/APBJ34mz3UnECa14gsNPhJ/25XLBB7kUrf8ABWvwz4lHkfBz9ib9oHxjLJxbz2Hw4e3s2PYvPNIvlr7lTTV/aF/4K2fFE7/hj%2Bwj4I8A2zf6i9%2BJ3j/7Wzj%2B81vp6iSP/dJzXJ9dlU/h4uc/%2BvdFP8eW3/kx9D/xCDxCpa5jjaeEXevUwVH7ourWqf8AlNvyAeMv%2BC1HxNPmaB8Gvgh8MbV/vR%2BKfEF7rN7GP9k2QEJI9%2BKUfsrf8FUvGR87xt/wU80rw6jff0/wd8JLGRfwnuH8wflSj4M/8Fj/ABz8/in9s/4V%2BBS33k8FfDt9TCfQ6gwJ/Gl/4d9/tg%2BKBt%2BKX/BWD4l3at/rf%2BET8PWGhk/7phD7aPZV6u9LET/xVI0190ZK33C/4hjw1T/5GPE9KT6qnLGVfu9hhqEH8piD/gnF%2B0hqn7/xT/wVU%2BM80/8Ae0k2ljH/AN8IjCs7xJ/wT/8AHXg6yOpeL/8Agrj8a9Kt1GWuNS8V2cCAf7zxgVpD/gjv8Ctb%2Bb4qftDfHHxy5/1jeKvijcybvwhWPitDw7/wRd/4Jp%2BHb0an/wAM02%2Bo3WcvPrfiLUr3efVlmuGQ/wDfNH9mYme2GS/xV6j/APSf8w/1I8HcP/GzPFVX/wBO8PUjf518cmvVxfoeA%2BNdK/ZZ8GStp/j3/gv98SmVcia30P4m2ck6n0zaxSMp9sZrz7UPF3/BHy/um0/Xv%2BCiv7RvxHuh/rLaTxHrt4ZPxjs41OfY1%2Bjfgr9jr9kv4cRLH4D/AGZfAOklf%2BWlj4Rs45CfUuI9zH3JJr0HT9M03SbZbLStPgtoV%2B7DbxBFH0AGKP7AxFT4vZL5Vp/%2Bl1kvwD%2Bx/BGhosuxuI/6%2BYqlTT/7dhCt91/mfk8vgD/gjjrjefp3/BPj9pD4gyn7t3b6L4gnaT6ZvYgfyqz/AMKD/YH1mLyPBn/BBn9oGcH7h1uHUdOJ%2BrPqLEV%2Br9FNcL0n8Tp/KhT/ADk5Mah4P0f4XCtOXnUxVaX3qFGC/E/Jj/hg7wL4kk2fD/8A4N/NeG48S%2BKP2g59Pjj/ANoobpmb6Ctnw3/wSi%2BPt3di78H/APBOn9mnwcDjI8beMtf150HsqTNGzfUYNfqdRTjwll17yb%2BUaUf/AEmm3%2BI45pwPhHfBcLZdB950q1d/%2BVcQo/8AkvyPz3sP%2BCTP7UurWC2Go/ET9nTwnD3tvDP7N2lX6J7g3qAsfduTV/wv/wAEUvHGh6l/bMn7ZWnWF42N914O%2BBPh3RZD9GgjJFffNFdUeGcoTTcW2u8pfpyndHjrMaLTw2CwNG23Jl%2BBTXpKWHqS/wDJj5Ji/wCCVGp61GsHxH/4KJftFaxAq4%2BwWXj1bC1Yehjhh6fQjFPi/wCCJv7AGoOJ/H3gXxP4tmByZ/Enj7VJmY%2Bp8udAfyr6zorp/sLKH8VFS/xXl/6VKR1/8RU8RIK1DMqlFf8ATlU6H/pijRf4s%2Bd/D3/BJj/gnF4Y2/2b%2ByN4Ul29P7RilvPz893z%2BNdjpv7B/wCxBpCKmnfsdfC6LaOGXwDpxb8WMOT%2BJr1eiumGWZbSXuUIL/tyP/yJ4%2BK4341xrviM0xM354iu/wD3MvyOH0f9mP8AZs8PMH0D9nvwPYkdDZ%2BE7OIj/vmMV1ek%2BHPD2gJ5WhaDZWS4xttLVIx/46BV2iumFGjT%2BCKXokvySPDxOY5jjP8AeK85/wCKc5f%2BlTkFeM/sv/8AJb/2jv8Ass1j/wCoV4Xr2avGf2X/APkt/wC0d/2Wax/9QrwvWhxns1FFFABRRRQAUUUUAFFFFABRRRQAUUUUAFFFFABRRRQAUUUUAFFFFABRRRQAV8F/8FL9U/sL/gqt%2Bw/qu7bu1Xxha5/67/2HFj8d1felfnX/AMFj7yXSP%2BCgn7E3iCPhLLx5qJuG/uxPqnhuNj/4/XmZxLky2cu3K/8AyemfceG9FYnjTC0X9tVo/fhcX%2BqR%2BilFFFemfDhRRRQAUUUUAFFFFABRRRQAUUUUAFZfjn/kSdY/7BVx/wCi2rUps8ENzC9vcRK8cilXRhkMCMEEelADqKyl8GaMihI7jU1UDCqmt3QAHoAJOKX/AIQ/Sf8An71X/wAHl3/8doA1KKy/%2BEP0n/n71X/weXf/AMdo/wCEP0n/AJ%2B9V/8AB5d//HaAPAtC/wCCXvwK8JeBPEvgrwZ478Z6VP4g%2BKEPjqx12G9sprvQL63ljktbSyW4tJLcWVvsZYreaGYKJZDksQwqj/glX8CZ/h3e/DvWPiX4%2B1FNS8J%2BPtA1HVr7VbN7y5i8X6raapqtwzC0CeetxZx%2BSQgREd1ZJPlK/Q//AAh%2Bk/8AP3qv/g8u/wD47R/wh%2Bk/8/eq/wDg8u//AI7QB41N/wAE/fh23xv0r4xW3xa8d21hovxDufHGneA4L%2ByGixa7c2NzZ3N1g2humEq3dxI0RuDEJZGkVFJOfQviX8CdA%2BMXwQvPgd8SfFOs6nBfWcUcuviSC31FLmGRJoL1GghSGO4imjjmQrEEDxqdhHB6P/hD9J/5%2B9V/8Hl3/wDHaP8AhD9J/wCfvVf/AAeXf/x2gDh/hB%2BzRb/BrTL%2BPR/jH4u1PV9e8TXGveMPEusLpr3viK8ksUsUNyIrKOGNYYILNY1tooAPsUIbcpkWTkPgH%2BwvqX7Onwq1n4VeCP2xfirdpq9w14Nf1e28NS6lbX8lwbi5vvOXRlF1cTsSJHu1nBU4ULgEez/8IfpP/P3qv/g8u/8A47R/wh%2Bk/wDP3qv/AIPLv/47QB4jrH/BMr9lDx78Mdd%2BH3x38C2nxN1DxHqOo6lqfjP4haFpeoasL%2B9tYLSW7gb7ItvaSLb2tpEgghjRVtYflJXJ6zwX%2Bxx8G/h/qPwtn8J2lzZaf8H/AA5e6T4O0G1jt4bCNrmGCBr2SKKFf9JWGKWNWQogW9ucoxdSnoX/AAh%2Bk/8AP3qv/g8u/wD47R/wh%2Bk/8/eq/wDg8u//AI7QB5NF%2Bwd8Kh8X0%2BJt94u8S3mkQeJ9R8S2Pw9uZbM6Ha61f2VxZXl%2Bqi2F07yw3l5uikuHgD3UrrEH2stX4WfsHaF8HdO1BfBf7Q3xFXVm8IWXhXwv4ivZNIuLvwtotpI0kFnZLJpxglALYaW8iuZpAib5GKgj2P8A4Q/Sf%2BfvVf8AweXf/wAdo/4Q/Sf%2BfvVf/B5d/wDx2gDwzwP/AME7fDnw6%2BBfw3%2BC3hT9pX4lW978JbEab4D8dEaEdZ0/TBZJZf2ef%2BJX9jmgMEcYJltmlLRI5k3qGEd//wAEyfgOdG0bwd4X8X%2BL9A8N2PhLQ/DOv%2BGtK1C1a28UaXpE0k1jBfyXFtLcZVppw8lvLBJKszLIzqFC%2B7/8IfpP/P3qv/g8u/8A47R/wh%2Bk/wDP3qv/AIPLv/47QB5Z8IP2N/8AhTnx08a/HXS/2kviDq9x491mbUNc0PXYdDltV%2BQx2ttFMmmJepbWkZ2QQm5Kr8zMHaSRn5rwj/wTn0Lw/wDDrxh8O/E/7UXxP8UDxZ4xtfFsGsa0ugQ3ug67b3aXiahZNY6VbxhzPDAzRzpNCRCE8vY8qye8f8IfpP8Az96r/wCDy7/%2BO0f8IfpP/P3qv/g8u/8A47QB4b42/wCCd/hzxf8AAyz%2BB2n/ALSnxK0JF8dxeMde8T6X/Ycmp%2BINZi1SLVIrm7a70uaBQl3BA6x28MMYSJItvlDy69LHwB8PXnxe8KfG/wATeK9a1nXfB3hC%2B0DS2v3tlhf7bJZvdX0kcMMa/an%2BwxLuTYio0qpGokaun/4Q/Sf%2BfvVf/B5d/wDx2j/hD9J/5%2B9V/wDB5d//AB2gDxrTv%2BCbH7IPg/44P%2B0d8Hvg/wCHvAHjP/hE9U0S21zwT4S0mymt3v3jeTUVJtG3XqeWVSR9ybZZVdHDkUN%2BwF4K1LR9fufF/wAa/HmveMde1vSNV/4WPqMmlpq%2Bn3GlMX0/7NHb2EVjGkJeb5DassguZhKJA5Fey/8ACH6T/wA/eq/%2BDy7/APjtH/CH6T/z96r/AODy7/8AjtAHFfD74HeG/wBn74G634I8P69q2sS3cmravrGua9NE97qeoXkktxcXM3kxxRKzSSNhIo440UKqIqqAMLxx/wApC/hf/wBkZ8ef%2BnbwhXqJ8GaG%2BFna%2BmTIJiuNWuZEb2ZWkKsPYgivLvHH/KQv4X/9kZ8ef%2BnbwhQB7NRRRQAV4h%2B394b8Ra78E9G1bRPCmpa/aeG/iX4V1/xBoej6dJeXV5ptjrVpc3BitolaS5eFY/tIhRWkk%2Bz7UV3Kqfb6KAPi7w18PbT4k/sn/Fvw94v0Lx14R07xP8S7/wAeeE7b/hWWqXV3Z2sWswXdrK%2Bmi38yZri9s3vJNOwty8N2Q8cbSHHI%2BDvih%2B0j%2Bz58HviV8XdU%2BGPinxZ4p%2BMnxreTwJqFv8Dtbjt9Asm0DS7CfV73RLeO6v7C0EunXUi20p8%2B5Z4Q7Rm5eSL7/ooA8s%2BAfw0Hw0/Y68FfCD9nnxLPYR%2BHvA2m6T4W1Xx54UuzKkdvbRxRyXmnO9lOrlUy0JaBlJxhQNtc9/wTpt/Etp%2BzdfWvjLVrG/1eP4t/ENdTvtM057S2uJx4z1rzJIoHmmaFC2SEaWQqCAXbGT7pXjP7B/8AyRDXP%2ByzfEf/ANTXW6APZqKKKACiiigAorwb9pn/AIKNfs3/ALNOux/Di61a/wDGHj67by9N%2BHfgazOpavcSkZCtFHxB6/vCpIyVDYxXmY0D/gqv%2B2N8/ibxBpH7Nvgm5/5h%2BjOmr%2BKrmI9nn4htCRghkxIhyCDivMrZpQhVdKinVmt1DW3%2BKWkY/N3/ALp49fOsNCs6GHi61Rbxgr2f96TahD/t6V/7p7V%2B01%2B3J%2BzF%2ByNYxn40/E61tdUugP7N8M6epu9Vv2Y4VYrWLMh3HADEKmSMsK8WHxs/4Kd/tgfuv2fPgrY/Afwfcfc8afFC3W716aM/x2%2BlLlIX5Hy3BKkdGr1b9mX/AIJ6/swfsrX0nivwN4Ml1jxddEvqXjzxZdHUdavJGGGdrmUZjLdxEEU9wa9W8efEPwD8LfDU/jL4l%2BNtJ8P6RajNxqetajHa28f1kkYKPpmsZUMwxMXLFVfZQ/lg7O396o9fXlUV/eFRy3PM4qxp1ZuHM7KnRu5tvZOpyuTb7U4LybPmfwx/wSK%2BCPiHXIPHH7XfxN8afHDxBC/mRy%2BO9bk/s62fv5FhCyxRoef3bF15NfR/w7%2BEfwp%2BEWlf2F8KPhn4f8M2WAPsmgaPBZxnHTKxKoNfNuvf8Fbvhd401efwd%2Bxf8FvHHxw1qFzE8vhPSHttIt5PSfULhVjjXp84V196pH4Q/wDBVn9qMb/jJ8d/DvwJ8NXH3/Dfw1g/tHXHjPVJdRlOyCQf89LfI46Vy4fEZTQk/wCz6PtZdXBX%2B%2BrLT/yeXofpeA8I6%2BSL22bujlsXq3iJf7RJd1Qj7XFSbW3PGkn3SPd/2gv2wP2ZP2VtKGrfH/406H4b3pvgs7q5Ml3OvrHbRBppB7qhArw9f%2BCo/jL4rnyf2N/2DPin8Rkf/Ua5q9nH4d0ecdil3eZz64KDt616D%2Bzz/wAE2P2Rv2cNYPjTw18OT4g8WySebdeN/Gly2q6tPN3l86bIic9zEqZr3iuxUs4xOs6kaS7RXPL5ylaP3QfzPReP8N8l93C4OrmE19uvUeHpN/3aFDmqtf8AXzERb6qJ8knxj/wWm%2BJHy6D8HPgh8NreT758TeIb3WLuFf8AY%2BxgRMw/2uKa37C/7dfxRGf2g/8AgqF4rt7Wb/W6R8LvDFpoPlL3VLtd8rf7zLmvriin/Y9Gf8arUn6zaX3Q5ET/AMRFzDC/8izA4PC9nTwtOc1/3ExDxMr%2BaSZ8xeBP%2BCPv7B3hTVv%2BEp8X/Cy78fa42PP1z4i65cavNPj%2B%2BkzeSec/8s%2B9e/8AgT4W/DH4Xaf/AGT8M/hzoPh20wB9m0LSIbSPA6DbEqit6iuvDYDA4P8AgUox9Er/AH2v97Pn854u4q4i0zTHVqy6KdSbiu1ocygkuiVNJdLBRRRXWfPBRRRQAUUUUAFFFFABRRRQAUUUUAFFFFABRRRQAUUUUAFFFFABXjP7L/8AyW/9o7/ss1j/AOoV4Xr2avGf2X/%2BS3/tHf8AZZrH/wBQrwvQB7NRRRQAUUUUAFFFFABRRRQAUUUUAFFFFABRRRQAUUUUAFFFFABRRRQBj/ED4ifD/wCE3g6/%2BInxT8daN4Z8P6XEJNT13xBqcVlZ2iFgoaWaZlSMFmUZYgZIHenWnj7wJqHgSL4o2HjXSZ/DM%2BkrqsPiKHUomsJLBovOF2twG8swmIiQSBtpX5s45rL%2BN3iLw94S%2BE%2Bu%2BIvFOhapqdla2RaSy0Xw1d6xdSOWAj8qzs4Zp5mDlTiONiuN3AUkfIfhG28UfEz/AIIyeCfgnoPwm8djxN4d%2BE/hOPxH4P174f6rpV1eR6U2n/2npipf20IllljtrmBYsnzg4K7kbdQB9kfDX4p/DH4z%2BELf4g/B74j6D4s0C7d1tNc8NaxBf2czIxRwk0DMjFWBU4PBBB5FfAf/AAXM/wCJf8bfgP4w6f8ACPW%2Bq6ju/u7fEfg9M/8AkSvp/wDYng1bXfGvxr%2BMkHg3XtB8N%2BO/iZb6l4Ws/Evh660i8uYYfD%2BkWM949leRxXFsJLm0nULLGjOIRLjEisfkT/guRoXxdguL3xD4r8ZeHtR0qz%2BE%2Bv33hPTtK8MT2d3p6x%2BLfA3mC5uZL2ZLslSMNHDbhdrZDbht8rPf%2BRNiH2g391n%2Bh9/4VNf8RLyeL2niKcP/AAY5U3/6cP02oqKyu4dQsob%2B2bMc8SyRn1UjI/nUterufAtOLswooooEFFFFABRRRQAUUUUAFFFFABRRRQAUUUUAFFFFABRRRQAUUUUAFFFFABRRRQAUUUUAFFFFABRRRQAUUUUAFFFFABXjPjj/AJSF/C//ALIz48/9O3hCvZq8Z8cf8pC/hf8A9kZ8ef8Ap28IUAezUUUUAFFFFABRRRQAV4z%2Bwf8A8kQ1z/ss3xH/APU11uvZq8Z/YP8A%2BSIa5/2Wb4j/APqa63QB7NRRUd5d2mn2kt/f3UcEEEbSTTTOFSNFGSzE8AAAkk0BsVvEviXw/wCDfD194t8Wa1a6bpem2slzqGoXs6xw20KKWeR3YgKoAJJPQCvjHVPjh%2B0x/wAFPdTuPBH7Imo6p8Nfgok7Qa58Ybm1aHVPEaKSrwaPE4DRRnBBuWwRzjaVMb0r%2B78Tf8Fh/idJoWkz32l/sw%2BEdX26hexM8EvxJ1GB/wDVRkYZdOjdeWH32HHzYMH2/oui6P4b0e18PeHtKt7GwsbZLeysrSFY4reJFCpGiKAFVVAAAGABivDUqucyfJJxw60utHU72e6p9LqznrZqOsvnFKtxBJ%2Bzk4YVaXWkqvez3jT6XVpVNbOMNZea/syfsXfs2/shaA%2BjfAz4aWem3NwmNT124zcalqLZyWnuZMyPlsttyEBJ2qvSu3%2BJPxM%2BH/we8E6h8R/ij4wsNB0LS4TLf6pqVwIool6Dk9WJwAoyWJAAJIFcD%2B1z%2B2V8Jv2PPBNvr/jp7rVNd1if7J4S8G6LH52p69eEgLDbxDJI3MoZyNq7h1ZlVvFPhp%2BxX8Zv2vPG%2BnftHf8ABS5raWCxnF14M%2BB2nz%2BZo%2Bg/3Zb49L67wed2UGSOVPlppUxEMK1gsBTTmlstIQT6za27qKvOXkveP1XhrgrAUMpjmmbT%2BqZcm1Dliva15R3hhqbspWek607UaTfvSqTtTcUn7Zf7XX7bs7aF/wAE8vhZ/wAIv4NlbZN8bfiPpzRW8qZ5fTLBxvuj/dkkGzIKuqcGuh8B/wDBJn4I3fiWD4l/ta%2BOvEvxz8Wwncl/8QL4yadbMeq2%2BnIfIijP/PN/MA7V9Twww20KW9vEsccahURFwFA4AAHQU6qhlNOrJTxkvbS89IL/AAw%2BH5y5peZ6GI8QsbgaUsLw1SWX0Wmm6bviJp7%2B1xTSqu/WNJ0KS2UGt6mg%2BH9B8LaRB4f8MaJaadYWsYS1srC2WGGFf7qogCqPYCrdFFeqkkrI/P5znUm5Tbberbd233bd235tsKKKKZIUUUUAFFFFABRRRQAUUUUAFFFFABRRRQAUUUUAFFFFABRRRQAUUUUAFFFFABRRRQAV4z%2By/wD8lv8A2jv%2ByzWP/qFeF69mrxn9l/8A5Lf%2B0d/2Wax/9QrwvQB7NRRRQAUUUUAFFFFABRRRQAUUUUAFFFFABRRRQAUUUUAFFFFABRRRQAUUUUAFfCP/AAWf0X%2B3tNvLHZny/wBm7x/c4/64634Mmz/45X3dXx9/wUz0b/hIPE2paSE3NJ%2ByX8WTEPV1n8LMv/jwFcOZw9pltePeE/8A0mR9TwPifqXG2V1/5MTh391el/mfS3wH1r/hJPgd4M8Rb932/wAKadc7vXfbRtn9a6uvJ/2DNZ/4SH9iD4Pawz7nn%2BGOhGU5/jFhCG/8eBr1itsJP2mEpz7xi/vjF/qebxDhvqXEGMw/8latH/wGrVj/AO2hRRRXQeQFFFFABRRRQAUUUUAFFFFABRRRQAUUUUAFFFFABRRRQAUUUUAFFFFABRRRQAUUUUAFFFFABRRRQAUUUUAFFFFABXjPjj/lIX8L/wDsjPjz/wBO3hCvZq8Z8cf8pC/hf/2Rnx5/6dvCFAHs1FFFABRRXiH7f3iTxFoXwT0bSNE8V6loFp4k%2BJfhXw/r%2BuaPqElndWenX2tWltcCK5iZXtnmWT7MJkZXj%2B0bkZHCsAD2%2BivkHwhF%2B0D44/Y1%2BK/wv%2BC/j/XtV1Hwv8V9S0DwlrN74qk/tXUdFtdUt2u7CPVLhzJ9rERv9Niu5ZPMSSKNnl3o0leVfCjx38Uvip8RrX9mL4h638SfBfw%2BP7QetaHpyXnxSu5NfktbXwZaaomkz67ZX0s8jLqE2ozMIryRlFj9maRkhlQgH6J14z%2Bwf/yRDXP%2ByzfEf/1Ndbql%2Bxl8XviN4r/YG8B/F7xFpGs%2BOten8IQToNOktI77xEi/JDdq1zNBb%2BZcRBJyzSRofMJBAIFJ/wAE6dWv9e/Zuvtb1XwxfaJc3nxb%2BIc1xo%2BpyQPc2Lt4z1omGVreWWEuhO0mOR0yDtZhgkA90r5H/wCCk3xD8X/F/wAR%2BGP%2BCa/wP1qS18S/FFGn8batanLaB4UjbF3O3YNPhoEB4b514LKa%2BovHvjTQ/hv4F1r4ieJ7jydN0HSbnUdRl/uQQRNLI3Poqk18xf8ABK/4c%2BI/GnhHXv8AgoF8Y4lk8dfG24GoxRnLLo%2BgoSthYQkjOzywshIxv3R7slcnyMylPEzhgYO3tLuT7U1ZS%2Bcm1Besn0PCzeU8XUhltN29qm5tdKSaUrec21TXa8n0Ppj4b/Dvwf8ACTwBo3ww%2BH2ixadomgabDY6XZQjiKGNQqjPUnAyWPJJJOSTXmX7cH7X2k/sjfC2DVdK0FvEXjfxNerpPw98G22Wn1rU5MKiBRyIkLK0jcYGBnc6g%2Bh/GP4ueA/gL8Ldd%2BMfxO1pdP0Hw7p0l5qNy3JCKOEUfxOzFUVRyzMqjk180fsNfBv4hftDfFCX/AIKV/tTaG1pruuWJt/hP4OuTuXwloL5KSEHj7XcK253xkK5HG8olY2vUg44LCaVJLe2kILRytt5QXWXlFn6twfkWV0sHUz7OIf7Dhmoxpp8rxFa16eHg1qo2SnXmv4dFWVqlWmjp/wBj/wDYX1bwB4xl/ar/AGsPFSeOfjXrlsBd6zMgNn4chYH/AIl%2BmxfdhjQMVMgAZ8t0DsG%2BlaKK7MJhKGCo%2BzpLTdvdtvdt7tvq3%2BCsl4Of8Q5rxNmLxmPneVlGMUlGFOEdI06cFaMKcFpGEUkt3zScpSKKKK6TxAooooAKKKKACiiigAooooAKKKKACiiigAooooAKKKKACiiigAooooAKKKKACiiigAooooAKKKKACvGf2X/%2BS3/tHf8AZZrH/wBQrwvXs1eM/sv/APJb/wBo7/ss1j/6hXhegD2aiiigAooooAKKKKACiiigAooooAKKKKACiiigAooooAKKKKACiiigAooooAK%2Bav2udF/4SP8AaR0bw9s3fb/2avidbbfXfeeFFx%2BtfSteJfEuxh1T9vn4b6ZcjMdx8EvH8Ug/2W1XwgD/ADqKsPaU5Q7pr701%2Bp04LEPCY2lXX2JRl/4DKMv/AG0x/wDglBrX9vf8E5vhFfb8%2BX4Rits/9cXeHH/jlfQtfKX/AARHv57r/gmZ8ObK7P7/AE6TWLOcf3THq94AP%2B%2BdtfVtcGTT9pk%2BHl3pw/8ASV/kfW%2BJeHWE8Rs5oraOKxH/AKeqNf8ApQUUUV6R8SFFFFABRRRQAUUUUAFFFFABRRRQAUUUUAFFFFABRRRQAUUUUAFFFFABRRRQAUUUUAFFFFABRRRQAUUUUAFFFFABXjPjj/lIX8L/APsjPjz/ANO3hCvZq8Z8cf8AKQv4X/8AZGfHn/p28IUAezUUUUAFZvjHwZ4P%2BInha/8AA/xA8KabruiapbNb6no%2BsWMd1a3kLDDRyxSApIhHVWBBrSooA4q3/Zr/AGc7TwW/w3tfgD4Ki8OyaH/YsmgR%2BFbNbJtN8xpPsRgEflm33u7%2BVjZudjjJJqPU/wBmD9mnWvhLbfALWP2ePA134Es3V7PwVc%2BErOTSYGVy6lLNojCpDszAheCSepruaKAIdO07T9I0%2BDSdJsYbW1tYVhtra3iCRwxqAqoqrgKoAAAHAArx/wDYP/5Ihrn/AGWb4j/%2BprrdezV4z%2Bwf/wAkQ1z/ALLN8R//AFNdboA8/wD%2BCwvjLXNP/Y4n%2BDXgy42eIvi14o0vwRoYHJaS%2BuAJQQOSDBHMp/3hX0j4E8G6H8OfA%2BjfD3wxbeTpuhaVb6dp8P8AcggiWONfwVQK%2BWPjz/xfr/grJ8IPgzH%2B%2B0r4T%2BENS8d67GOY2u7hhZWSt6SRsPNUdcMT0r0v/gox%2B0bqX7MP7JPifx54T8yTxTqUaaH4LtYBmWfV7xvJt/LH8TIWaXb3ERrwoYinTxGLx1T4aaUF6QXNK3rOSXqkc/CeUYzini6WFwivUq1KeHp32urOTb6RUptyfSNOTex418VWb/gpd%2B2Wv7POnMbj4K/BbVor34i3CH9x4l8RrzBpOekkMHLSryN25WAPltX2qqqihEUAAYAA4Aryr9ib9mbRP2R/2aPDHwV02KNr%2BysVuPEl%2Bp3NqGqSgPdXDMeXLSFgCSSEVF6KK9Wrry3DVaVN16/8WpZy8v5YLygtPN8z6n33G2d4HHYynlmVv/YcGnTo9HUd71MRJfz4ia53/LTVGmtIalFFFekfEhRRRQAUUUUAFFFFABRRRQAUUUUAFFFFABRRRQAUUUUAFFFFABRRRQAUUUUAFFFFABRRRQAUUUUAFFFFABXjP7L/APyW/wDaO/7LNY/%2BoV4Xr2avGf2X/wDkt/7R3/ZZrH/1CvC9AHs1FFFABRRRQAUUUUAFFFFABRRRQAUUUUAFFFFABRRRQAUUUUAFFFFAHj3/AAUHPjkfsOfFg/Df%2B0/7Y/4QLU/s/wDYm/7ds%2Bzv5v2by/n8/wArzPL2fPv27fmxXzn8D/Gn7PfhrwH%2B0tp37H17p83wzufDr3Hw70P4T6hbwjUdUg8PhtVXQRDmMygNYBmhVlS7eQuPNMufu2igD4N/4I06T4Q8O%2BNviLonw78Z/DrxRo//AAhHguaXxB8G9F/szw39uMeqJPayWwmnVtYQJHJd3PmK8sVxYh4LcxKJPa7/AFL4r3f/AAU28F2fjbwX4e0/Qrf4PeOB4a1HSvE895d36HVvCXmNc20llCloRhMBJrgNuOSu0bvoevGfHH/KQv4X/wDZGfHn/p28IUAeY/8ABGf/AIl/7Kuv%2BEOn/CPfFfxNp2z%2B7tvmfH/kSvrSvkv/AIJQf8SyP9ojwe3H9lftO%2BKhCnpDJ9mdP5tX1pXk5FplFFdk190pr9D9A8VPe8Q8xqfzzjP/AMGUcPU/9yMKKKK9Y/PwooooAKKKKACiiigAooooAKKKKACiiigAooooAKKKKACiiigAooooAKKKKACiiigAooooAKKKKACiiigAooooAK8Z8cf8pC/hf/2Rnx5/6dvCFezV4z44/wCUhfwv/wCyM%2BPP/Tt4QoA9mooooAKKKKACiiigArxn9g//AJIhrn/ZZviP/wCprrdezV88/s0eL1%2BH37HnxC8eu4UaJ8RvinqBY9hD4u16TP8A47UzkoQcnstfu1JnONODnLZJv7k3%2BhxP/BNn/i8vx5/aG/bMuf3sHij4hjwx4ZnbkNpWjRC3SWP0SV3LH1aMk1D8V/8AjLj/AIKl%2BEPgxF/pHhH9n/Sl8XeKVHMcviG7XbpsD%2BjxRZuFPu4Nav8AwS4fRfgD/wAEnfAnjLxQfJstM8G3/iPVJj94xSTXN87knqdj9T2AqX/gkZ4E13/hm29/ac%2BIUQPi/wCNviK68Ya5IcnyoJnYWduhP/LJIArKO3msBxivlsNCWIwuEwr%2B3%2B%2Bqel%2Be3zqSivSB9b4XReQ8D4ziWppVdP2NLv7fGqcqs150sM6tn0dSGx9UUUUV9WfKBRRRQAUUUUAFFFFABRRRQAUUUUAFFFFABRRRQAUUUUAFFFFABRRRQAUUUUAFFFFABRRRQAUUUUAFFFFABRRRQAV4z%2By//wAlv/aO/wCyzWP/AKhXhevZq8Z/Zf8A%2BS3/ALR3/ZZrH/1CvC9AHs1FFFABRRRQAUUUUAFFFFABRRRQAUUUUAFFFFABRRRQAUUUUAFFFFABRRRQAV4z44/5SF/C/wD7Iz48/wDTt4Qr2avmf48fEiLwV/wVX/Zz8JXEoC%2BL/hb8SdNiQnrLHP4WvQR7hLWT8CaipUjTjzS20X3tL82jOpUhSjzS2ul97SX4tGH/AME7f%2BJR%2B1F%2B1Z4Q6eR8XIdR2en2uyR8/jsr60r5L/ZA/wCJN/wU9/a18OH5Uum8Fajbr679JlWQ/wDfQFfWleZkumBce06i%2B6pP/M/RPE33%2BKVW/wCfmGwU/wDwLBYb9YhRRRXrH5%2BFFFFABRRRQAUUUUAFFFFABRRRQAUUUUAFFFFABRRRQAUUUUAFFFFABRRRQAUUUUAFFFFABRRRQAUUUUAFFFFABXjPjj/lIX8L/wDsjPjz/wBO3hCvZq8Z8cf8pC/hf/2Rnx5/6dvCFAHs1FFFABXkP7a/xI8ffDz4T6RZfDLxK2hax4s8f%2BHfDEPiJLSGd9Ji1DU7e3nuY450eJphC8gi8xHjErRl0dQUb16ud%2BLHwn8A/G/wFe/DP4m6G2oaPfvBJNDFezW0scsMyTwTwzwOksE0U0UcscsTrJHJGjoysoIAPmTW/wBpH9oDwl%2BxF8W7%2BD4jf2t45%2BH3xAu/CGg%2BK7vTLRLvW2a/tYrTZBHCtodReO9jtYx5SW73ioWjSNmRfLR%2B1V%2B2tf6HD8JbHxL8TLjxTbfGXVtG1Dw3pumeD1%2BIUOkQeHLbUoVmM6f8I62JruGZ5om2m1urSNXNyZUP15a/sXfs5Wnwpvfgl/wheoT%2BGNSt5Ev9OvfFWp3BuJpL175715ZbhpWvjdOZzfFvtXmBW83KLjKl/wCCfn7LMnhmDw2nhLxFDNb%2BIZ9cXxHa/ETXIdefUJrVbSWeTWEvRqEpe2jigYPOymKGKMjbGgUAs/syfHrUvFf7EPgP9oX4p6s%2Buajf%2BAtN1LxJd%2BEPDN9ctc3j28f2g29jDA10T5pceUsW9cEFBggfOviL4pWFl/wRo%2BN3xG0pL62t9V174pRWq6npk9jcxi98X63Agkt7hEmgk/fgGORFdTwyggivtH4f%2BAfBvwq8DaP8NPh34dttI0HQNNhsNH0uzTbFa20SBI41HXAUAc5J6kk1%2Bf37X1xNqH/BJ7xh8NrSUrP42/aU8UaDBtPzFpfiRqkhA%2BqwsPpmvOzio6WU15Lfklb1aaX4s8nPqsqGR4mcd1Tnb1cWl%2BMkdv8AtpTaz8Hv%2BCPXg79nvwl%2B68QeM/Dnhb4faLF0MtxdxQQyoR1JaGO4B9zX2V8PfBOi/DTwDofw58NxeXp3h/R7bTbBMY2wwRLEg/75UV8t/tTQQfGH/gpX%2Bz3%2BzhZRhtN8C6fqXxD1%2B1UZCCFRaaa%2BO2253/nxX15XNltNPG1praChSX/bkU5f%2BTSX3H6nnlKOScAZHk8dHONXFT/7iSWHo3/7g4aTXlPTcKKKK9o%2BCCiiigAooooAKKKKACiiigAooooAKKKKACiiigAooooAKKKKACiiigAooooAKKKKACiiigAooooAKKKKACiiigArxn9l/wD5Lf8AtHf9lmsf/UK8L17NXjP7L/8AyW/9o7/ss1j/AOoV4XoA9mooooAKKKKACiiigAooooAKKKKACiiigAooooAKKKKACiiigAooooAKK8e/4KDnxyP2HPiwfhv/AGn/AGx/wgWp/Z/7E3/btn2d/N%2BzeX8/n%2BV5nl7Pn37dvzYr59/Z08WfDXRfDv7RWh/8E79b8Jx%2BGL7RxL8GtN8HXFsNMvPEcOgq16dMjjPlSIkjad53kgoLhpt/70y0Afcdfnv/AMFc/Fl78M/%2BChf7G3xbtspbaDrfiFNXnBx5Njd3vh2ymc%2B2LgD8a63/AII/eKfAZXxD4B%2BHfhv4X38UHgnwzq2veOPhlo8kElxqlyL5J9K1meWaaS91a2MAlmnldJm%2B3ZlggJXzOB/4LC%2BD/jD8UvEWtaN4k8FaBpun%2BHvgL401zwdq%2Bj%2BJ57y9uRYa74NvJZLi3ksoUs2VICAI5rjcHbJXA3ebnCm8rrOG6jzL1i1L/wBtPIz%2BNR5LXdP4oxcl6wan%2BPJb5nsvwe/4kn/BZD4x6X0/tz4T%2BHtRx/e8mV7fP64r60r4e8Q/Ea38Pft1fs2fto2LiPQvjp8Nj4Q1uVT%2B7jnmij1LTuOm%2BSVzGO%2BFP0r7hrHJ5xca0F0qSfymozi/mpfmfqvHUo47D5PmlJ3p18Dh0n/eoKpQmvVOMPlKL6hRRRXsHwIUUUUAFFFFABRRRQAUUUUAFFFFABRRRQAUUUUAFFFFABRRRQAUUUUAFFFFABRRRQAUUUUAFFFFABRRRQAUUUUAFeM%2BOP8AlIX8L/8AsjPjz/07eEK9mrxnxx/ykL%2BF/wD2Rnx5/wCnbwhQB7NRRRQAUUUUAFFFFABX5x/FT/iqfCHwE%2BEiHP8Aa/7dPjDU7iIf8tLew8YeIZpFPt865%2Bgr9HK/Nbwzrlrd/ti/BDT707rPwZ8QPjz4q1OPPBQeJtYhiY%2BmHViDXk5219Q5H9qUI/fON/wTPGz2E62AVCKu6lSlBLvzVaat%2BB7h%2BxR/xej9vz9o/wDaak/fWOi6vY/Dvw5N18pdPiEl%2BgPcG5eNuK%2Bua%2BVv%2BCL3h%2B50/wD4J7eEfGWskvrHjLUdV8Q65ckc3Nzc385Eh9zEkQ/CvqmnkibyynUe9S836zbl%2BCcV8j9Y8UKkI8cYvBU3enhOTCw7cuGhChdf4pwqz/7f73CiiivVPgAooooAKKKKACiiigAooooAKKKKACiiigAooooAKKKKACiiigAooooAKKKKACiiigAooooAKKKKACiiigAooooAK8Z/Zf8A%2BS3/ALR3/ZZrH/1CvC9ezV4z%2By//AMlv/aO/7LNY/wDqFeF6APZqKKKACiiigAooooAKKKKACiiigAooooAKKKKACiiigAooooAKKKKACiiigArwH49eDdN%2BIv7Zvgv4fayAbPXfgD8RdOuwRn91PqPhKJuO/DGvfq8Z8cf8pC/hf/2Rnx5/6dvCFKUYzi4vZkzjGcXGSuno/np%2Bp8WaBovi/wCMX/BBzR9Y0sFPHXwK1J9SsDjc1le6BqMvTvkWQbA45YV%2Bi3we%2BJehfGf4T%2BGfi74ZYHT/ABPoNpqlmN2Ssc8KyhT7jdg%2BhBr5g/4J8aNpfh344/tWfsna9ZpNY2fxRbXxYSj5TZa9ZibywP7mI2GB03H1rQ/4JB6zqfhX4F%2BK/wBkzxRevLq/wV%2BIOqeGd05/eT2HnNcWdx/uPHKyr/sxCvlcnk6Faipfbg6b/wAdCTivm4fkfV8MSlnXgwqEtauWV16%2Byr81CfyjiMPSk%2Bzq%2Bdz6yooor6s%2BWCiiigAooooAKKKKACiiigAooooAKKKKACiiigAooooAKKKKACiiigAooooAKKKKACiiigAooooAKKKKACiiigArxnxx/wApC/hf/wBkZ8ef%2BnbwhXs1eM%2BOP%2BUhfwv/AOyM%2BPP/AE7eEKAPZqKKKACiivP/ANpf443PwB%2BGsXizRfCK%2BINa1XxDpeg%2BG9Dk1H7HHe6jqF7FaQLLP5chghVpfMlkEcjLFG5VJGCowB6BRXz9eftyX2gfsmePP2hfFnwjFt4g%2BG%2Br3%2BkeK/Clnrpntba9tbhYmlF8bdD9h8qSK7a5aBWjt2Z2hDI0ded2v/BWrw3cfB2z8eSaH8OYtQ1T4h3nhfRtal%2BL0aeCr%2BO1sUvLjVIvEDWI32ab/shZbRn%2B2q0AUqplAB9i1%2BR2keLfJ%2BO/7Q3jdJf3fw9%2BC/xagt%2Bf9XqF54/8QPGc9sptFfq34B17UvFXgXRvE%2Bs2%2BlxXeo6Vb3V1FomrG/skkkjV2FvdGOI3EWSdkvlpvXDbFzgfjH9u1HT/AIRf8FEPHWDJK/xWm8KaMq9WFx4v1Izxj/v%2BDj6183xPUdPAxa6Nv/wGnVl%2Bdj0eGsv/ALY8QOHsvauquPwyfpGfO7%2BXu6n6p/8ABP3wl/wg/wCw18IvDLxbJIPh1pD3CY6SyWkckg/77dq9frL8EeG4PBvgvSPCFrjytK0u3s49vTbFGqD9FrUr3cLS9hhqdL%2BWMV9yS/QvPce81zzF45/8vatWp/4HUqT/ACkgooorc8sKKKKACiiigAooooAKKKKACiiigAooooAKKKKACiiigAooooAKKKKACiiigAooooAKKKKACiiigAooooAKKKKACvGf2X/%2BS3/tHf8AZZrH/wBQrwvXs1eM/sv/APJb/wBo7/ss1j/6hXhegD2aiiigAooooAKKKKACiiigAooooAKKKKACiiigAooooAKKKKACiiigAooooAK8Z8cf8pC/hf8A9kZ8ef8Ap28IV7NXjPjj/lIX8L/%2ByM%2BPP/Tt4QoA8h%2BKuoy/skf8FUvDnxp19FTwX8efDtv4O1HUPurY%2BIrVi9iZT0xNF%2B5QddwY5AWq3xr1a6/YG/4KCxftRawir8LvjlFp/h3x3fgFV0LXbZGjsL2U9BDJGTEzHAU72Y/dDe7/ALbH7Mej/tefs1%2BJPgjf3QtL6%2BthceHtVBKtp2pwnzLW4Vl%2BZdsiqG24JRnXvXmf7MHjLwz/AMFKP2E9T%2BFH7SGgf8T%2B3S58IfFLRpQqz2WsWpCPMo5COWWO4QjIViAM7DXzOIw1SGKnh6btJt1qTe3Ovjg/J3v/AIZtr4Tv4Cz7CcKcU18DmMHPA46E41Ir4uSbg6vJfT2lKpGliaV93GUX7spW%2BogQRkGivk3/AIJ3/H7xd4M1rVv%2BCeP7T3iJD8SfhuBD4f1G7bYfFvh8Lm1v4dx/eOsYCSAEsNgLEt5m36yr28Fi6eOw6qxVns094yWji/NP79GtGj0eJ%2BHcXwvnE8DWanHSVOpG/JVpTXNTqwb3hODTXVPmhK0oSSKKKK6z58KKKKACiiigAooooAKKKKACiiigAooooAKKKKACiiigAooooAKKKKACiiigAooooAKKKKACiiigAooooAK8Z8cf8pC/hf8A9kZ8ef8Ap28IV7NXjPjj/lIX8L/%2ByM%2BPP/Tt4QoA9mooooAK8%2B/aX%2BB118fvhrF4T0Xxevh/WtK8Q6Xr3hvXJNO%2B2R2eo6fexXcDS2/mRmeFmi8qWMSRs0UjhXjYq6%2Bg0UAfOEv7C3jjVf2f/Fvwd8RfHawm1Xxn4i/4SjWfEdn4OeJX14apFfI32Z711bTQlta2hsmYu8ETh7ljIWGTF/wTz8eQ64nxsX43eF5PiwnxQuvGsfiGf4cSNoUU1xoEOgy2seljUhMiNZ28Uhk%2B2%2BabhS5YxsYa%2BpaKAPM/g3%2By18Ofhj%2By3oP7KHirTrLxj4d0rQI9M1C38QaTBLbako%2BZ99qytEsZckrDgqihVHCivy38A/C/w/4V/Zx8efC7wv4bstK07x3/AMFKNS8LaVpOmWiQW8GnW2tziKGOJAFjiQwuoVQFUKAMV%2BylfmfpXhGwT4s/AD4aWUhkfxH%2B2P8AFvxbcoVAzJp3iPWGz77VK814XENH2uCXql/4G4Q/Js%2B38NKF/EHAYx7YZYiv/wCCsJiZJ/KSi/kfphRRRXunxAUUUUAFFFFABRRRQAUUUUAFFFFABRRRQAUUUUAFFFFABRRRQAUUUUAFFFFABRRRQAUUUUAFFFFABRRRQAUUUUAFFFFABXjP7L//ACW/9o7/ALLNY/8AqFeF69mrxn9l/wD5Lf8AtHf9lmsf/UK8L0AezUUUUAFFFFABRRRQAUUUUAFFFFABRRRQAUUUUAFFFFABRRRQAUUUUAeRft9fELxp8KP2KPin8SPh5rMmmazovgbUbqy1eGMM%2BmlYG3XihgVJgXdMNwK5j5BGRXnXwN8c6l%2Bz9rX7QnhTw7f%2BPPiL4W%2BGdpp2r6Bps%2BtX3iXWpbqXRhd3Ok209zJNc3Uj7LeeOFndg2oBV2xmNF%2Bnb2ys9Ss5dO1G0iuLe4iaOeCaMOkiMMMrKeCCCQQeCDXKfDn9nn4A/B7T7DSfhH8DvB/ha10uW5k0y28OeGbWxjs3uAguGiWGNRGZQibyuC%2Bxd2cCgD5l/wCCUfxt8e/FHx98dtE%2BJ/jTx7rGs2fjbS9Qmg8XeEdd0qz0g3mhafNLp%2BnxatawGC2inaZY4QqyNHsnkUm48yT0O/8AGniTxD/wU28F%2BHdW%2BEfiHQrPSfg944Sw17VbnTntNaDat4Sy9sttdyzoE2jP2iKA/ONob5se8aV4V8L6Fq2p69onhuws77W7mO41m9tbNI5b%2BZIUhSSZ1AMrrFHHGGYkhI1UcKAPKPHH/KQv4X/9kZ8ef%2BnbwhQB7NXxt%2B054A%2BLv7Df7QGt/wDBQP8AZ28Mz%2BJfB/iWC3Hxv%2BHtjEPtLxW6lU1myHAM0SE%2BYn8Q3MfvM8f2TQQCMEZB6iuPG4OOMpJczjKLvGS3jLv5ro09Gm0%2BjXBmGAjj6KXM4zi%2BaElvGSvZ9mrNqUXpKLafRr5z%2BMnwN/Z0/wCCnXwM8N/F/wCGXj9rTVLZBqXw5%2BJvhtyl/ol0Dnggq20Ou2W3cg5Uj5HUMvJfAb/goH4l%2BE/jK3/ZV/4KQ2tr4L8fxSfZ9C8bNGYvD/jKIYCXFvcECOGZsjfE20BiANpbylrePP2NP2if2SPiFrXx6/4Jtatpkml65eG/8XfA3X2EOlanORh59OmGPsNwwH3eIycZO1FjrY8Dfte/sUft%2B%2BH739mf9ozwXa%2BH/FhkFvrvwn%2BJlstrfw3OODbGTb5x5LRywkSAYbCZFeE51YYpSbVHEPR3v7Ktbaz79tqkb2anE%2Bu4b8QcEsvhw3xfQlOim/ZSjJKpSk370sLUneMoT%2BKpharUZP3o8lT97L6pVldQ6MCCMgg8EUtfG1t%2ByV%2B3V%2BxSrH9hb40WXjzwLbtut/hJ8Up2MtlF/wA8dP1NTuQdkjlxGgGSXJJOz4R/4K4/Bbw/rUHgH9sX4ceK/gb4pd/KNp410uR9NuJO5t9QhUxSx/8ATRhGvBr0o5vRpNQxkXRl/e%2BB%2Bk17r%2BfK/I%2BkreHWY4%2BEsRw3WjmNJa2pXWIit/3mFk1Wi11dNV6ejanax9YUVk%2BC/Hngf4keH4fFnw78ZaVr2l3Azb6lo2oR3UEn%2B7JGzKfwNa1etGUZxTi7pnwFWlVoVZU6sXGUXZpppprdNNJprs0n5BRRRTMwooooAKKKKACiiigAooooAKKKKACiiigAooooAKKKKACiiigAooooAKKKKACiiigAooooAK8Z8cf8pC/hf/2Rnx5/6dvCFezV4z44/wCUhfwv/wCyM%2BPP/Tt4QoA9mooooAKKKKACiiigAr83/gLf2mu/8FE/hrpd9OFi8Fan8adfckZ8v7X451ixBwOckjaMck8V%2BkFfmh/wT/H/AAmH/BSL4s%2BIMbx4Om8R6Hn%2B4bv4n6ve49iQK8nNveVCn/NVh%2BHNL/21H6B4f/uZ5ri/%2BfWAxVvWoqVBff7aSP0a/wCEw0n/AJ9NU/8ABHd//GqX/hMNJ/59NV/8Ed3/APGq%2BdvH3/BZH/gm98L/AB3rXw08c/tG/Ydb8O6tc6ZrFl/wiGsS/Z7q3laKWPfHaMj7XRhuUlTjIJHNZP8Aw/L/AOCWn/R0P/lk63/8hVUs8yWEnGWJppr%2B/H/Mzo%2BFviZiKMatLJMXKMkmmsPVaaaTTTULNNNNPqmn1Pp//hMNJ/59NV/8Ed3/APGqP%2BEw0n/n01X/AMEd3/8AGq%2BdvAP/AAWR/wCCb3xQ8d6L8NPA37Rv27W/EWrW2maPZf8ACIaxF9ouriVYoo98loqJud1G5iFGckgc1337f3xg%2BJn7Pv7E3xT%2BOPwbtNNm8T%2BEvA%2Boaro66vMyW6ywQtJvfbHJu2qGYJtw7KELIGLr14XG4PGxcsPUjNLfladvWx8/nnDPEnDFaFLOMFVw0ppuKq0503JJ2bSmk2k9G110PS/%2BEw0n/n01X/wR3f8A8ao/4TDSf%2BfTVf8AwR3f/wAar571P9tz42%2BFfiH458F/EL4FeBNC0/4ZfDy08TeOfE938VLo2Nu93FqjW9tbY0cSzqH0%2BMSyukRRLgtHHM6CKTmfht/wUq1f4q6p4Z0PVvhPq/hfW4vjRL4O8Q6Qst5bQyIfB%2Boa/DPt1jR7S9eF0hiTb9ntJBKgZZZIVK3HSeGfVX/CYaT/AM%2Bmq/8Agju//jVH/CYaT/z6ar/4I7v/AONV88/slft8/En9ofT9EuPHP7MH/CP3fiz4TaL8QfCel%2BHvGsOqz3WnXzBHgnNxBZRW9xCXiYqHkR0fIcMpjrqf2q/FnxV1L4tfC/8AZ4%2BFvxX1DwI3ja61i61bxXo2m2N1exW9hZCRbaBb%2B3uLdWkmmhZmeJz5UEqrtZhIgB67/wAJhpP/AD6ar/4I7v8A%2BNUf8JhpP/Ppqv8A4I7v/wCNV85QftCftI/E/wD4JkeEPj/8PrS5/wCE513SPDs3iG78K6Gt7cW9pLf2kWsahp1lIsgnlSzN5c28BWXcyxrsnOI34Hwr%2B0v8QfGv7MvxC8b%2BM/2qviX4Kh%2BFnxGv/D2neIj8P9Ih8ReMPMtLG402GXTbzTGQXMkl%2BlsltBbW80zrGpWJ2ZKAPsv/AITDSf8An01X/wAEd3/8ao/4TDSf%2BfTVf/BHd/8Axqvhz9oH9qv9u34EWGh/EX4u2ninRrvSvAngq9m8L%2BCvA8Oo%2BH9f1q5uzF4is7/UWtpmsBCpjW3AuLXJdWQ3bEwr6l8Hvid8ffCf7Yur%2BCP2nfFnxJsNN8W%2BLtZs/hNp91pvhlvC%2Bp2cEH2mKKKWzhbVI7tbeC5mxdvGjrFJt37QAAfTWl63p2seYtlJJvhIEsU9u8TpnoSrgMAecHGDg1brKtP%2BR21D/sF2f/oy5rVoAKKKKACiiigAooooAKKKKACiiigAooooAKKKKACiiigAooooAKKKKACiiigArxn9l/8A5Lf%2B0d/2Wax/9QrwvXs1eM/sv/8AJb/2jv8Ass1j/wCoV4XoA9mooooAKKKKACiiigAooooAKKKKACiiigAooooAKKKKACiiigAooooAKKKKACvGfHH/ACkL%2BF//AGRnx5/6dvCFezV4z44/5SF/C/8A7Iz48/8ATt4QoA9mooooAK82/aJ/ZB/Zq/av0EaB8f8A4P6P4iVIylrfXEHl3lqD/wA8bmMrNFzzhWAPcGvSaKzq0aOIpunVipRe6aTX3Myr4ehiqTpVoKUXumk0/k00fH0P7EP7dH7Nilf2Kv24ZdW0KA5s/AHxp086paxr2iTUIsXMUY6KirwMZJIzVXxL%2B2R%2B1R4Q0Kfwd%2B3B/wAEtdf1/RnXZf6p8NHtvE%2Bn3id5DYviSNB3EhJAGa%2By6K8x5SqSthqsoL%2BXScP/AAGd7LyUl6Hl08oq4Ganl2JqUGtUlLmimtrKbbjbpyzjbpY/L%2B1b/ghr8Q/Fk2sfCv45eJP2evGzvi7bQ9U1HwrcWr9QrxzobRAM9EwPevZ/Afgb/goBp1mL79kv/gp/8OPjBpUa7rPTPH%2BiwXGE7B7/AEyRpZc/3iBX1347%2BFfww%2BKNh/ZXxN%2BHGg%2BIrXaV%2Bza7o8N3Hg9RtlVhXg/jn/gj5/wTh8e3Z1K7/Zh0nSrvdviufDN9daWYm/vKtrLGg%2Bm3HtXlvJcZRlzUowv3hKpRf3Rc4f8Akp95S8TPFOnSVLH1sPmNNKyji6SqOy6KdSNScdP5a68rHPD9q3/gqB8Mf3Xxf/4Jv6f4qto/9drXwy%2BINu4Pulncr5zZ%2BtKP%2BCwvwV8KjZ8ef2dvjX8NmTiefxb8NrgW6%2BpWS3Mm5ffHPpR/w6U8PeF/n%2BC/7b/7QXgwJ/qbDT/iM9xZL6AwzRtuA92o/wCGMP8AgpF4S5%2BHP/BV/UbmFPuWPi74WabfF/QNPvDj6gUf8ZFQ2536%2Bxqfj%2B5l%2Bpf%2BvWRYn/kZ8KRT6ywmLnS%2BahUdWHysl5HYeCP%2BCsP/AATl%2BIIRtC/a58JW/mfdGuXMmmY%2Bv2xIsfjXrng/46/BD4hhD4A%2BMnhXXBJ/q/7H8Q21zu%2Bnluc18ieN/wBkz/gpz4i3/wDCXWv7J3xLVv8AWHx78OrtHmHfPkowyfyryTxh/wAE7fj1qpf/AITT/gkh%2Bzvr2c7/APhBfHV9oW7/AHfmTbR/a2eUvjoX/wC3Ki/9JlUQv7b8KMR/Ew2a4V/9esLiYr5wnRm/uR%2BoFFfkr/wxb8bfBQ2%2BH/8Aglp8XfBiR/cn%2BHH7VUEu33SOUOw%2BhNL/AGR%2B2L4H50nSv2%2BNL2dI5Nf0/wASonsFKx7h7Uf6yV4fxMLL5c3/ALdSQX8K638PPatLyr5bi4/e6Uq0fwZ%2BtNFfksP2ov8AgoN4Q/49vjl%2B1VpcadYfGP7I2m3aN9Zkui2PcCj/AIei/t0%2BE/8Aj%2B%2BPFnPt6/8ACZfs86vZZ/3vse/H4Uf63YGP8SlNfJP9UH9ncEVf4HE%2BBf8A18%2BuUX8/a4JJfez9aaK/JdP%2BC6/7S/htgnin4jfs9XIBwF/4RPxpZyt9d9oyg/pWrp3/AAcKfEmDH2v4cfCfWfX%2BzvHF9Ybvp9rsxj8apcZZE/im16x/ykxx4eyus/8AZ89yyp6ZhQj/AOnY0fxP1Tor8y9K/wCDiLVJCBrX7JPhxFHWWz%2BO%2Bkvu9wrxIR%2BNbtr/AMHEnwngUN4i/Z4voP739n/EPRLrH0/frmto8W8Py/5f29YyX6Gy4OzCo7UcVg6n%2BDMMBL8sXE/Reivz3sv%2BDjz9jxpRBqfwZ%2BJiuTgnTrLS7tR9Sl//AErpdK/4OA/2ItTAabwX8T7QHvceDlbH/fudq2jxPw/PbEx/H/5E1fAPFiV40IS/w4jBy/8AScbL8j7jor46sv8Agut/wT9nAa/8S%2BL7Adzd%2BB73j/vhGrRtv%2BC4/wDwTElYR3n7Rc9m56Jd%2BC9YU/mLQj9a2Wf5G/8AmJh/4El%2BdiV4f8bz%2BDLqsv8ADFT/APSKkz60or5jsP8Agsr/AMEzdSx9n/au0hc/899Jv4v/AEO3FbNj/wAFWv8AgnRqOPs/7Xng9c/8971ov/Q1FbRzjKJbYin/AOBx/wAwl4fcex3ynE/%2BCKr/ACgz6DorxSy/4KQ/sBahjyP2yfhuuf8Anv4utYv/AENxWtZ/t1fsR6jj7B%2B2L8LJie0fxB00n8vOrWOYZfLatD/wOP8A8kcVXg/i6j/Ey3EL1w9f/wCUnqtFcBZ/tYfss6hj7B%2B0r4Anz08nxlYt/KWtS0%2BPHwO1DH2D4zeFJ89PJ8RWzfyetlicNLacX/29H/M4KmSZ1R/iYWrH1pVF%2BdNHV0Vj2nxD8AX%2BPsPjnR5s9PK1OJv5NWlbajp96M2d9DN/1ylDfyrRThLZnDUw9el8cGvVNfmkTUUUVRkFFFFABXjPjj/lIX8L/wDsjPjz/wBO3hCvZq8Z8cf8pC/hf/2Rnx5/6dvCFAHs1FFFABXO/Ff4r%2BAfgj4CvfiZ8TdcbT9HsHgjmmis5rmWSWaZIIIIoIEeWeaWaWOKOKNGkkkkREVmYA9FXkH7a/w38ffEP4T6RffDLwy2u6x4T8f%2BHfE8Ph1LuGB9Wi0/U7e4nto5J3SJZjCkhi810jMqxh3RSXUA3LL9qz4C3/wKu/2kk8cvF4Q09riO/vbzSLuC5triC4a1ltZLKSJbpLpbhTB9maITebiMIWIU5g/ba/Zoi%2BB/ir9orVPH91pfhbwPcS23i6TW/Deo2F9pVyiRSfZptPuLdLxZ3S4t2jh8nzJhcQmNX81N3hGvfAH9ojxr%2ByD8XfA938B72z134l%2BNrjxWPDV7rWmb7ewk1O2V9NjuYrp44NVawtGnSdSbeC6uY2W4YxFxweof8E/f2sPHfwN8b6d4Bvx4HsJ/G2u%2BIPC3w9%2BLNv8A8Jdq2qGfw/ZWFs%2Bo6nBra%2BZdR3iahJbvcXd6sUc1kWINpDHCAfffhfxLonjTwzp3jHw1e/adN1awhvNPufLZPNglQPG%2B1wGXKsDggEZ5ANfnh/wSI0CSb9o79sTx3MCyzftH3Ol27H%2BAQeJNTkdR9TOpNfaHwU%2BGnxV0n9krwl8J/HXj%2BXQvF1l4MsNP1LXvCem20b2NzHAiMYIrz7bBuXbt%2BfzkYgsOCAPmL/gj14B1DwX8Kfj1ea34gvdYvb79sTxikutalHAlzfrb%2BIFg86UW8cUQdnSVmEccaAsQqKMKPPxdP2mKw7/llJ/%2BSSX6n13D2NWDyDOY31q0aVP78VSk/wAKZ91UV8xeP/8Agpr/AMIF471vwL/w75/ae1r%2BxdXubD%2B2NA%2BE/wBpsL/yZWj8%2B2l%2B0jzYX270fA3KynAzWR/w9h/6xqftaf8Ahm//ALqrOWdZZGTi6mq/uz/%2BVn5xLiHJoScZVdVp8NTpp/z6PrSsX4j/AA88GfFz4fa58KviNoMWq%2BH/ABLpFzpeuaZOzKl1aXETRTREoQwDIzDKkEZyCDzXz54B/wCCmv8AwnvjvRfAv/Dvn9p7Rf7a1e2sP7Y1/wCE/wBmsLDzpVj8%2B5l%2B0nyoU3b3fB2qrHBxXs37SfjD4nfDz4BeL/iD8GfDlprPifQdAudS0fRb2F3TUpIEMptQEdCHlVGjRt2Fd1YhgCp68NjMNjIuVGV0t9JL/wBKjH9TtwePweYRcsPLmS0ekl5/ajH8LmNB%2Bxr%2BzwvhXxT4O1PwhqWr2fjXw3b6D4ql8ReK9T1O61Kwg%2B0%2BTHJc3dzJPvT7XPiUOJRuX5/kTbneB/2Cv2Wvh7qS654f8BalNqQ8XDxRLq2teMdW1K8uNXGkTaMLua4vLqWWdhp88tviRmXaVONyIy%2BG%2BI/%2BCj/xN%2BJHha58Y/suNoeq2HiPx3NpHwoli8JLqjeINOsNIW61W9ka51vSraGOK78%2BAO1wu0WbgJK0g8vifBv7dXxG%2BLniPRPjxZfabXTvHnwy/Z31WPwo2v3v2HSp/EXi7Xba/kg%2BzTxbnMXkozHKTrawrMksS%2BUek7D7D8MfsnfAjwTY6JYeDvCd7pS%2BHPA1p4O0SbTvEeoQzWmi2rxvBarKk4c7TFHmQsZGAIZ2DMDo/G/9nr4U/tE6Jp%2Bh/FLR9RmGkaib7SL/AETxFfaRfWNwYZYGeG8sJobiLdDNNE4SQB0kZWBUkV8m/BP9qn9qD43ftSfCDxhqfirwj/Ynjv4W%2BP8AW/Dnw90q6vdPa1ks7/RoLaDVpTNcJdSx%2BaUa4S2iNtI9wixSZyfbv239W8ST6Z8KPhvL4q1Xw7pHjv4r2Gh%2BM9S8N67cafdQ2Z0%2B/ukghvbdop7fz721s7XzI2jkZbgqpUuKAPQpP2d/hYngMfDDRrHWNF0CLw5YaFZaZ4Z8V6jpUen2NmSbdLT7HcRGzdQdplgKSuiIjOyxoq8X4l/4J6/sq%2BK/CnhPwdqPhLxJb23gnXrvXPDt3pHxH16wvotUullW4v5ry2vY7m7uZBPMGnnkkkPnSfN87Z4H4Raj%2B0L8U/8Agm3430P4T/Em7n8aWepeO/DngHxZrGqlri4t9P17VNP0y4kvJQ5aU2ttAPtbhy7YnbfuOeK/Z9s/ir8WdO%2BN/wACz4L8fWFh4S8U6MfBPh7xx%2B0Jq1pqsN/LpUU93p934g0m6vrpIxuS6EKzXW1bpNyqrLFEAfSviD9kv4KeLvEHhjxH4utPE2rSeELewi0ey1Xx/rNzYu9lJ5trcXVpJdtb391HLiUXV1HLP5iI5kLIrCXRP2VvgxofxhPx3XTde1DxKk13LYT69411bUrXTHuuJ2srO7upLawLqShNvFH8jMgwrFT%2Bf8/xq%2BLni/8AZo1LX/GH7SXjLTNX%2BF37NfiLxT4av9L8WXdsL3xPp2sajZzNcPDMP7dgs3sLK2X7R5sV2l4JZIy9wu31nwV8evindftsa543%2BOHhDxHHo9h8ZtP%2BH/h2HTvixf2UOkzXXh2zvIVfw9AFtNShkkupZXurl3nj81SkXlW4cAH2vaf8jtqH/YKs/wD0Zc1qVl2n/I7ah/2CrP8A9GXNalABRRRQAUUUUAFFFFABRRRQAUUUUAFFFFABRRRQAUUUUAFFFFABRRRQAUUUUAFeM/sv/wDJb/2jv%2ByzWP8A6hXhevZq8Z/Zf/5Lf%2B0d/wBlmsf/AFCvC9AHs1FFFABRRRQAUUUUAFFFFABRRRQAUUUUAFFFFABRRRQAUUUUAFFFFABRRRQAV4z44/5SF/C//sjPjz/07eEK9mr5w/aP1f416P8At4fCef4HfD/wt4i1JvhH47W7tPFfjC50WCOD%2B1PCRLpLb6fes77to2GNRgk78gKQD6Porxn/AITj/goX/wBGv/Bn/wAPxq3/AMy9H/Ccf8FC/wDo1/4M/wDh%2BNW/%2BZegD2aivGf%2BE4/4KF/9Gv8AwZ/8Pxq3/wAy9H/Ccf8ABQv/AKNf%2BDP/AIfjVv8A5l6APZqK%2BcdJ/aO/bt1j4z6/8Drf9lD4SLqnh3wvpGu3ly/x11TyJINRudSt4UQjwxuLq2lzlgVAAePBYlgvUf8ACcf8FC/%2BjX/gz/4fjVv/AJl6APZqK8Z/4Tj/AIKF/wDRr/wZ/wDD8at/8y9H/Ccf8FC/%2BjX/AIM/%2BH41b/5l6APZqK8Z/wCE4/4KF/8ARr/wZ/8AD8at/wDMvXL%2BAf2jv27fiJ4r8b%2BENH/ZQ%2BEkNx4D8URaFqslz8ddUCTzyaVp%2Bph4tvhgkp5OowqSwU70cYwAzAH0dRXjP/Ccf8FC/wDo1/4M/wDh%2BNW/%2BZej/hOP%2BChf/Rr/AMGf/D8at/8AMvQB7NRXjP8AwnH/AAUL/wCjX/gz/wCH41b/AOZej/hOP%2BChf/Rr/wAGf/D8at/8y9AHs1FfOPwi/aO/bt%2BMvhS78X%2BHP2UPhJbW9n4o1vQpI73466ormfS9VutMncbfDDDY01pIyHOSjKSFOVHUf8Jx/wAFC/8Ao1/4M/8Ah%2BNW/wDmXoA9lZVdSjqCD1BHWsvUPAngfVs/2r4N0q5z1%2B0adE%2BfzWvLv%2BE4/wCChf8A0a/8Gf8Aw/Grf/MvR/wnH/BQv/o1/wCDP/h%2BNW/%2BZek4xlurkyjGStJXO2v/ANnn4Aapn%2B0/gb4Puc9fP8M2r5/OOsa9/Y1/ZA1LP9o/sp/Da4z18/wNp75/OGsL/hOP%2BChf/Rr/AMGf/D8at/8AMvXL/BH9o79u348fBjwh8cfCv7KHwktdL8Z%2BF9P13TbbUPjrqizwwXdtHcRpIE8MMocLIAwVmGQcEjmsZYXCy%2BKnF/8Absf/AJEwlgsFP4qUX6xi/wD206%2B8/wCCfX7B99n7R%2Bxh8K8nqY/AOnofzWEVl3f/AATL/wCCfN7/AK79jn4fLn/nj4bhj/8AQVFXf%2BE4/wCChf8A0a/8Gf8Aw/Grf/MvR/wnH/BQv/o1/wCDP/h%2BNW/%2BZesnl2XS3ow/8Aj/APImEspyqW%2BHp/8AgEP/AJAwLr/glB/wTlvM%2Bd%2ByH4QGf%2BeVo8f/AKC4rOuf%2BCPH/BNO7/1v7Jmgj/rleXif%2BgzCuw/4Tj/goX/0a/8ABn/w/Grf/MvXL/G79o79u34D/Bjxf8cfFX7KHwkutL8GeF9Q13UrbT/jrqjTzQWltJcSJGH8MKpcrGQoZlGSMkDmsnlGUvfDw/8AAI/5GTyLI5b4Wn/4Lh/8iZFz/wAEVP8AgmFdf639lWwGf%2BefiLVE/wDQboVRn/4Ia/8ABLac7v8AhmAIfWPxnrQ/9vMV6b/wnH/BQv8A6Nf%2BDP8A4fjVv/mXo/4Tj/goX/0a/wDBn/w/Grf/ADL1DyPJXvhqf/gEf8jJ8OcPPfB0v/Bcf8jyef8A4ISf8ExJhhPgDexf7njTVj/6FcmqU/8AwQN/4JmTfc%2BD2sR/7njC/P8AOU17L/wnH/BQv/o1/wCDP/h%2BNW/%2BZej/AITj/goX/wBGv/Bn/wAPxq3/AMy9Q8gyN74Wn/4CjWGRZNT%2BDDwXorfk0eHzf8G/n/BNeX7nw88RR/7ni26/qxqrN/wb2f8ABOOT/V%2BGPFsf%2B54qk/qpr1L4u/tHft2/BrwpaeL/ABH%2Byh8JLm3vPFGiaFHHZfHXVGcT6pqtrpkDnd4YUbFmu42c5yEViAxwp6j/AITj/goX/wBGv/Bn/wAPxq3/AMy9Q%2BHMgf8AzCw/8BR0Ry7Bw%2BGLXpKovyqo%2BfJf%2BDd7/gnbJ9yx8bJ/ueKP8YjVaX/g3R/4J7v9y78fR/7niWL%2Btua%2BjP8AhOP%2BChf/AEa/8Gf/AA/Grf8AzL0f8Jx/wUL/AOjX/gz/AOH41b/5l6l8M8PP/mFh93/BNo0FD4ZzXpVrr8q6PnJf%2BDdn9hiH/jx8d/FG29PI8U24/nampov%2BDfX9km2/48fjv8abfHTyPGdquP8AyTr6H/4Tj/goX/0a/wDBn/w/Grf/ADL1y/j79o79u34d%2BK/BHhDWP2UPhJNcePPFEuhaVJbfHXVCkE8elahqZeXd4YBCeTp0ygqGO90GMEsp/qzw%2BtsNH7n/APJDdFy3qVP/AAdiP/mg8rt/%2BCDX7Pdn/wAeP7V3x/t8dPJ8fWy4/wDJKr9v/wAER/hdZD/QP24f2lIMdPK%2BJcC4/Kzr23/hOP8AgoX/ANGv/Bn/AMPxq3/zL0f8Jx/wUL/6Nf8Agz/4fjVv/mXqlw7ki2oL75f/ACZhPL8PU%2BJzf/cWv/8ANB45F/wRu0K0/wCPH/gob%2B0/D6bPiko/lbCnfAf9kST9lX/goT4NR/2lvin8Q1134M%2BMto%2BJfiv%2B0/7O8nVvC3/Ht8ieV5nnfP13eVH/AHa9h/4Tj/goX/0a/wDBn/w/Grf/ADL1Q8D%2BB/2rPGP7Vnhz43fG74cfD3wzo3hn4e%2BIdDhh8K/EO%2B1q6u7rUr7RLhGZLjSLFIo0TS5QWDuxaVAFxkjpw%2BUZdhaqqUqdpLzl%2BTm1%2BBNHLMFQqqrBPmXedSX4SqSX3pnutFFFeid4UUUUAFFFFABXzl%2BxD4Y03wt%2Bzx4svbESEXv7Q3j/AFO%2BdhnB/wCE81Te3A6KkY/Ba%2Bja%2BSv2SvFn7Z2n/D3xRZ/DH4B/DDV9CT40/EX%2Bz9R174u6jpt3Mv8AwmesljJbRaBcpEQ24ACZ8gA5BO0JpNp9i41KkYSgnpK1/Ozuvuep9Qf8Jz4J/wChw0v/AMGEf/xVL/wnPgn/AKHDSv8AwYR//FV5b/wnH/BQv/o1/wCDP/h%2BNW/%2BZej/AITj/goX/wBGv/Bn/wAPxq3/AMy9Mg9S/wCE58E/9DhpX/gwj/8AiqP%2BE58E/wDQ4aV/4MI//iq8t/4Tj/goX/0a/wDBn/w/Grf/ADL0f8Jx/wAFC/8Ao1/4M/8Ah%2BNW/wDmXoA1L74GfsUap8ONJ%2BDup/B34W3HhHQL37ZoXhWfw9pr6bptzukbzoLYp5UMm6WU70UHMjnPzHOhp/w4/ZR0m1tbLSvAfw9tobK00m0sobfS7FFt4NLnkuNMiQBQES0nlllt1GBBJI7xhWYk%2BZ/BH9o79u348fBjwh8cfCv7KHwktdL8Z%2BF9P13TbbUPjrqizwwXdtHcRpIE8MMocLIAwVmGQcEjmuo/4Tj/AIKF/wDRr/wZ/wDD8at/8y9AGrY/A/8AYq0vxTrfjnTPhB8LrfW/EsF1D4j1iDw/pqXWqx3WPtKXMoTfOsu1fMDkh8DdnFdB430r4AfEzwRc/DL4kab4O8QeG7yFIrvw9rkNpd2M8aMrIjwSho2VWVSAVwCoI6CuK/4Tj/goX/0a/wDBn/w/Grf/ADL0f8Jx/wAFC/8Ao1/4M/8Ah%2BNW/wDmXoA6oeCf2YR4et/CI8I%2BAxpNp4bn8PWul/YLL7PDpE4jWbTkj27VtZBDEHgA8thEgKnaMYd1%2Bz5%2BwxffC21%2BB178EPhPN4Ksr831n4Pl8NaY2lwXR35nS0MfkpJ%2B8f5wob5255NcT8bv2jv27fgP8GPF/wAcfFX7KHwkutL8GeF9Q13UrbT/AI66o080FpbSXEiRh/DCqXKxkKGZRkjJA5rqP%2BE4/wCChf8A0a/8Gf8Aw/Grf/MvQBu%2BIPhN%2ByB4ssfDGl%2BKvhp8NtTtvBMscvgy31DRtPmj0B0CBGsldCLUqI0wYtpGxcdBVy68DfsvX3xUt/jpe%2BD/AADN43tLM2lp4xl0%2BybVYbcqymJLsr5yph3G0NjDMMcmuW/4Tj/goX/0a/8ABn/w/Grf/MvR/wAJx/wUL/6Nf%2BDP/h%2BNW/8AmXoA9M0PULHV/FOoalpV3Hc232G1iFxA4ZC6vOzKGHBIDrnHqK2q8Z/4Tj/goX/0a/8ABn/w/Grf/MvXL/F39o79u34NeFLTxf4j/ZQ%2BElzb3nijRNCjjsvjrqjOJ9U1W10yBzu8MKNizXcbOc5CKxAY4UgH0dRXjP8AwnH/AAUL/wCjX/gz/wCH41b/AOZej/hOP%2BChf/Rr/wAGf/D8at/8y9AHs1FeM/8ACcf8FC/%2BjX/gz/4fjVv/AJl6P%2BE4/wCChf8A0a/8Gf8Aw/Grf/MvQB7NRXzj4%2B/aO/bt%2BHfivwR4Q1j9lD4STXHjzxRLoWlSW3x11QpBPHpWoamXl3eGAQnk6dMoKhjvdBjBLL1H/Ccf8FC/%2BjX/AIM/%2BH41b/5l6APZqK8Z/wCE4/4KF/8ARr/wZ/8AD8at/wDMvR/wnH/BQv8A6Nf%2BDP8A4fjVv/mXoA9morxn/hOP%2BChf/Rr/AMGf/D8at/8AMvXL6t%2B0d%2B3bo/xn0D4HXH7KHwkbVPEXhfV9ds7lPjrqnkRwadc6bbzI5PhjcHZtUgKgKQQkmSpChgD6Oorxn/hOP%2BChf/Rr/wAGf/D8at/8y9H/AAnH/BQv/o1/4M/%2BH41b/wCZegD2aivGf%2BE4/wCChf8A0a/8Gf8Aw/Grf/MvR/wnH/BQv/o1/wCDP/h%2BNW/%2BZegD2aivnHSf2jv27dY%2BM%2Bv/AAOt/wBlD4SLqnh3wvpGu3ly/wAddU8iSDUbnUreFEI8Mbi6tpc5YFQAHjwWJYL1H/Ccf8FC/wDo1/4M/wDh%2BNW/%2BZegD2aivGf%2BE4/4KF/9Gv8AwZ/8Pxq3/wAy9H/Ccf8ABQv/AKNf%2BDP/AIfjVv8A5l6APZqK8Z/4Tj/goX/0a/8ABn/w/Grf/MvXL%2BAf2jv27fiJ4r8b%2BENH/ZQ%2BEkNx4D8URaFqslz8ddUCTzyaVp%2Bph4tvhgkp5OowqSwU70cYwAzAH0dRXjP/AAnH/BQv/o1/4M/%2BH41b/wCZej/hOP8AgoX/ANGv/Bn/AMPxq3/zL0AezV4z%2By//AMlv/aO/7LNY/wDqFeF6P%2BE4/wCChf8A0a/8Gf8Aw/Grf/MvVv8AZW%2BHPxp8H6x8UPHfx00DwvpOqePviFFrlnpXhPxLc6tb2trFoOj6YqvcXFlZs0jSadK5URbQsiDcxzgA9booooAKKKKACiiigAooooAKKKKACiiigAooooAKKKKACiiigAooooAKKKKACvlf9p79rT4ufDD4x%2BLNa8A%2BHfB8nhj4P%2BH/AA/e%2BNTrWkXE2q6pb6vfypcwWFxHcRpZeRbWcdxmSKcXMhSMiHy/NP1RXjPxn/Yh%2BHHxu%2BKR%2BJmueOfFWlxaja6Ra%2BL/AA1o11app3imDS72S9sYr5ZbeSYLHNNLn7PLAZY5DFMZYwqAA9mooooAKKKKAPmPw5%2B0r8TIf2//ABR8H/iNrHh7wn4bXxBaaJ4Mi1H4Rayl14xgGgQajiDxG12unNLHd3OoAWgheTy7SYBQWaRfpyvK/Fn7LUHj/wCMmkfFPx78b/Gur6V4e12PWtA8AXB0yLRrHUI7d4I5w0Nkl7Ls8ySRUmupIxI%2B7Z8iBfVKACiiigDxf/goL8Xfjh%2Bz9%2ByP40%2BPXwCvfCkeseCdCu9cuoPGGi3N9bXdpa20sz26JbXVsySuyIokLlUBYlH4Fef%2BPP2tPi54L%2BPHi3U/Cnh3whF8PPCHxj8I/D7xlZzaRcHW9V1XXYNFSPUIbtLhYY44P7c0mMxSW8ryJDPiWPagr2H9rH9nGy/a0%2BBGvfs%2B618VfFPhHSfE9lLY65f%2BEF077Xc2UsTxTW26/tLqNEdX5ZEWQFRtdec8XB%2BwD4On%2BItn8RfFXxx8fa6x1nSdc8TaNqEulRWPifXNMSNLHVr2O2sImW4iEFphbZoIGNjbF4mMeSAe90UUUAFeL/tk/F344fBK18A%2BMfhZe%2BFP7G1D4meHPD3i%2Bx8QaLc3N1c2uq6zY6aDZyw3UKW0ka3Msm%2BRJ1JRF2ck17RXlX7V37Lb/tVeG9C8Lz/H3xv4Gt9C8SWGuo3guHR2e7vbG8gvLNpTqWn3g2xXFvG4WMIG5WTep2gA84/Z5/aV%2BJmt/tVeLfgj8UNX8PeE9Oh8U63b%2BCfCUnwi1nTLnXraF0lN/b61cXf2DUHYyTSyxW0BfkuxXDE/TleS6T%2ByiH%2BMmi/GX4j/ALQHjvxrN4Xu7y78J6F4hGkw2Gj3VzbyWslxEthp9tLK/wBnmnhXz5JVRZ32gEgj1qgAooooA8P/AG7vi58eP2fvg1q/x1%2BFHjHwLY6f4W0W5vL3RfFnhm9v7nxDe5RbPTLOS2vYPs81xKRbo3lXTNLPEFhY/K3n/wAEf2vvjPrnxL8Ff2t4M8JaR8NPG/xP8UfDbwr4a07S5o9X0S/0CHVt889yLhreaCRvD%2BposMdvEY1a2PmSZYD0/wDaV/ZBg/aS8eeCPiBN%2B0D478IXPgG7ub3RbHwxFo09nJeyoI1vJoNT068R54Y/MWGQBTGJ5SPmbIq%2BA/2Gvh74D%2BMtv8XYfiL4u1KDTtd1PXtE8Ialc2X9k6VreoxvHqGqQJFapP584nuyyvM8KNfXJjij8zgA9rooooAK%2BX/2ufjx%2B0v8FviJp/hTSofAHjXR/HMOtW2i/DmLwffSawlraaHdXcl/cTi9eK6thdRW9tJCLWIH7fCgmMjIkn1BXh037E1xH%2B0f4r/aa0T9qv4l6dq/i3TYdOudLhg8Pz2mn2cMDRw21m1zpMtzbxLK73WxZtrzuXcODtoAZ%2Bwh%2B0H43%2BPfw9vLr4r%2BPtGvvF2nCzbX/Ddl8LtX8I3mgPPbLKILmy1e6nuHBbf5dwAkciodobaTXuleb/A79m7Tvgz4n8SfEPWPil4p8ceKvFcVjb6x4n8XNYLcvaWYm%2By2qRafa2ttHFG1zcuNsIZmuJCzNkY9IoAKKKKAPjn/AIKCftx/FT9jDxz/AGnrmi6B4x8Ivo2o63b%2BFZfhzqdlLbppujX2pJJ/wkU10%2BmT3f2vTRssVgS6EcyygbYWkb179mj4u/HPVvip43/Z6/aOufCmoeJ/COk6HrUeteCtIubCxubHVBeRpEYLm5uXWWK4067Uv5uJEMTbIySorfHX9hLwR%2B05rV1a/H/4t%2BNfFHgu5kuJF%2BGV5JpsOixSTWM1kzb7eyjvpAI7iZgkt06B33bfkQL0/wCz5%2BzNpHwDvNe8RXfxQ8WeOPEfiQ2cereKvGtxZvfS21pEYrW1H2O2t4ViiDysMR72eeV3Z2cmgD0qiiigAr4j/an/AGyv2s/g38avEHwo8HeG/DnjXU7DRbjXfDAT4H%2BII5NFA1HTLVDC325x4mkFjqlx539l%2BU8LQlZRGJhHX25Xh%2BvfsW6n4l8en4na1%2B1z8UZtb0%2BC8i8G3hTQAPCq3U0Mk/2SMaTsnZo4Ft916t0yxM4Uq7s5AOq/ZY%2BLD/GT4RweLL34maN4qv4dRurLVL7RvBl94dFtcRSsrWs2m6hcT3VnPGMK8czh8/NtUMBXo1cN8A/gL4e%2BAHhnU9G0rxTrfiDUdf1641vxJ4k8RzQNe6rfzBEaeUW8UMCYjihiVIYo41SJAFGCT3NABRRRQAUUUUAFFFFABRRRQBR8UeIbDwl4a1HxXqoc2umWM13ciJct5caF2wO5wpr5z/Ym/aT%2BNfj/AMU6P4M%2BNnh7wZZjx18LbL4jeGYfBmlXFoNMjvLgm70%2B7M1xKLuaN7m2f7YggE7SzEwR7QX%2Blru0tb%2B1lsb23SaGaNo5opVDK6kYKkHggjjFeQ/szfsV%2BAv2YNVfV9A%2BIPi3xLLbeGLHwz4dHiy9tZhoGhWbyPb6bam3t4S0amT5pZzNcSCOLzJn8tcAHsVFFFABXC/tQePPiL8LP2aPiJ8Tvg/4UXXvFvhzwLq%2BqeFtDaxmuhqOo29nLLbWxhgZZZhJKiJ5cbB23YUgkGu6rO8W6Jf%2BJfDGoeH9L8V6joVze2kkNvrWkLA11YuykCaIXEUsRdTyBJG6ZHzKwyCAeXfsU/Fqf4ofDO%2BstW%2BIXh/WdT8O6qunXmmaJ8MNT8HPoaC2gkis7jStUuZ7mFwjiRXby0eKWLYmBvf2KvPPgP8As7aT8DrzxL4jufiJ4k8Y%2BJPF%2Bow3niLxT4rezF3dGG3S3giEdjbW1tFFHGgCrHCmSzsxZmZj6HQAUUUUAfLn7VH7WPxQ/Zw%2BL3jiy%2BJWjeEvEXwvsP2d/F/j220K30S4TVXbRBpaz21xcyXL280U6304CC2QqETLvlhXb/sz/F/4%2Bap8XPGX7Ov7Sz%2BErzxR4Y8MeHvEseq%2BCtJubGykstWfUrdbYw3NzcuZYbjSLsGUSBZEeJvLjO5ag%2BMf7Cvh346fHVvjL48%2BO3jmXTZvBWp%2BEb74ewwaL/Yl3o2pLbfb7SQvprXpE7WkDs4ug6lCEZEZkPSfs7/su6H%2Bz7fa14jn%2BKHi3xv4h1%2B1sLK/8T%2BNrm0kvTYWKSLZ2Y%2ByW1vH5URnuHBKGR3uZXd3Zs0Aen0UUUAFfInxr/aX/a28Ga7%2B0B4Et/CvgzxZe%2BAvD/hTxJ8NrHSfh/qd/Oseo6rqUIS8tYrx5dRngXTY51NsLclyQq/KrV9d14XL%2BxR4hi%2BOnjb4/wChftofFbStW8b6RY6Zc2NlZ%2BGGtNNtrK4uZ7NLYS6K8n7o3l0oMzyl1nIk8wqhUA6v9lT4tzfGX4UjxNqPxO0bxTqNrqtzY6tdaP4Iv/DZs7iJvmtZ9M1G4nurSdFK7kmYMQyttVWFek1wnwD%2BAegfAHQtZsdP8W654j1XxN4gl1zxP4m8SS27Xuq38kMMHmyC2hhgjCwW9vCqRRRoqQoAuck93QAUUUUAfG37S37Xf7S37PHxmg%2BG2sp8M/Gt9rcEE3hGHTvC17aS%2BC7zUvEOmeHtIm1OV76YXUU7avOC0S2cjixuljDL5hi9x/ZV%2BL/xI%2BIw8f8Aw%2B%2BMR0SfxV8NPHjeGtZ1Xw1p01nYan5ml6dq1vcQ28088lvm11S3R42mlxJHJhiCMcLbf8E1fCTXXxDfxD%2B0v8TtZt/iTrx1zWLfUjoXmWepRXEM%2Bn3NtdRaWl0psHt7cWkbzSRRLCgZH5z6x8A/gLofwD8Patptl4v1zxJq3iLXpta8T%2BKPEr2xv9XvpI4ofOmFrBBAuyCC3gRIoo0WOCNQvBJAO6ooooAZc/afs0n2PZ52w%2BV5udu7HGcc4zXxB8Vv2uf20/hp8RNc%2BG1vbeA/GeveGL3w1b6t468EfBXX9Wj8OW%2BrNePe2EulWepT3dzNHDZWN0TFOn7u6haWBAYmk%2B3ruGS4tZbeG6kgeSNlWeIKXjJGAy7gVyOoyCPUGvnv4MfsBeIPgJ8Nrj4afDv9ur4xRR3WrPqc2s3ll4Tn1CW7leWS5nmmfQj9pkneXdJJOJHzGmwoBggHrPwE%2BIdl8Vvg74f%2BIVh8QNG8VJqeniR9f8P6TNYWl3ICVkKWs800tsVdWRoZJHeNlZWO5SB19cl8C/gv4S/Z9%2BF%2BnfCnwVc39xZWEt1cTX2q3Imur67urmW6urqZwqhpZrieaV9qqu6Q7VVcKOtoAKo%2BJ4fElz4b1C38G6nY2WryWUq6XeanYPdW0FwUIjklhjliaaNWwWRZIywBAdSdwvVm%2BMdBv/FHha/8O6X4t1LQbm8tXig1rRxAbqxcjiaIXEUsRdTyBJG6HHzKwyKAPh74b/t2fta/GD4p638EvhZpvw%2BTxnptrrt9J4z8V/C7WtDXVNM0i10WVLGXRLy%2BTUNPle78Q7EmnmePyoZLhIXWdAfsb4BfFrTfj58CfBXx10bTZbOz8a%2BEtN160s5n3PBFeWsdwsbEAZKiQAn1FeLav/wTI8D61rl98Rbv9pT4pp8QNWS8tda%2BJNte6RDq1/pl1bWttNphRNNFnDbFLK0YeRbRSrJAsqyhyzH6D8F%2BD/DXw88HaT4A8GaTFp%2Bj6HpkGn6TYQ52W1tDGscUa55wqKqj6UAadFFFAHL/ABp1Hxxo3wt1rW/hz4hsdL1awszdQ32oeD73xAiRxkPKBp1jPBc3kjRK6pFDIHLsuFc/I3xb8Jf%2BCiPx%2B8SeNND1PxvceEfAngzUp518QeOLz4GeIprbWL%2BHX7rSES5lW%2BjTwzPJa2lr%2B41RpJYHlWN87AlfbfxM8Ga7498JTeHPDfxS1/wbeSSxvFr/AIZisXu4NrAlVW/trmBgwBUh4m4Jxg4I8Vuv%2BCc3hTUPB9x8NtW/aQ%2BJt34Y1zUJr/x5oE1xo4i8YXc9411cTX0q6aLiLzSywtHZy2sQhiSNUUbtwB9E0UUUAFFFFABRRRQAUUUUAFFFFABRRRQAUUUUAFFFFABRRRQAUUUUAFFFFABRRRQAUUUUAFFFFABRRRQAUUUUAFFFFABRRRQAUUUUAFFFFABRRRQAUUUUAFFFFABRRRQAUUUUAFFFFABRRRQAUUUUAFFFFABRRRQAUUUUAFFFFABRRRQAUUUUAFFFFABRRRQAUUUUAFFFFABRRRQAUUUUAFFFFABRRRQAUUUUAFFFFABRRRQAUUUUAFFFFABRRRQAUUUUAFFFFABRRRQAUUUUAFFFFABRRRQAUUUUAFFFFABRRRQAUUUUAFFFFABRRRQAUUUUAf/Z\">"
      ]
     },
     "metadata": {},
     "output_type": "display_data"
    }
   ],
   "source": [
    "s.run(tf.global_variables_initializer())\n",
    "\n",
    "BATCH_SIZE = 512\n",
    "EPOCHS = 40\n",
    "\n",
    "# for logging the progress right here in Jupyter (for those who don't have TensorBoard)\n",
    "simpleTrainingCurves = matplotlib_utils.SimpleTrainingCurves(\"cross-entropy\", \"accuracy\")\n",
    "\n",
    "for epoch in range(EPOCHS):  # we finish an epoch when we've looked at all training samples\n",
    "    \n",
    "    batch_losses = []\n",
    "    for batch_start in range(0, X_train_flat.shape[0], BATCH_SIZE):  # data is already shuffled\n",
    "        _, batch_loss = s.run([step, loss], {input_X: X_train_flat[batch_start:batch_start+BATCH_SIZE], \n",
    "                                             input_y: y_train_oh[batch_start:batch_start+BATCH_SIZE]})\n",
    "        # collect batch losses, this is almost free as we need a forward pass for backprop anyway\n",
    "        batch_losses.append(batch_loss)\n",
    "\n",
    "    train_loss = np.mean(batch_losses)\n",
    "    val_loss = s.run(loss, {input_X: X_val_flat, input_y: y_val_oh})  # this part is usually small\n",
    "    train_accuracy = accuracy_score(y_train, s.run(classes, {input_X: X_train_flat}))  # this is slow and usually skipped\n",
    "    valid_accuracy = accuracy_score(y_val, s.run(classes, {input_X: X_val_flat}))  \n",
    "    simpleTrainingCurves.add(train_loss, val_loss, train_accuracy, valid_accuracy)"
   ]
  },
  {
   "cell_type": "markdown",
   "metadata": {},
   "source": [
    "# Submit a linear model"
   ]
  },
  {
   "cell_type": "code",
   "execution_count": 25,
   "metadata": {
    "collapsed": true
   },
   "outputs": [],
   "source": [
    "## GRADED PART, DO NOT CHANGE!\n",
    "# Testing shapes \n",
    "grader.set_answer(\"9XaAS\", grading_utils.get_tensors_shapes_string([W, b, input_X, input_y, logits, probas, classes]))\n",
    "# Validation loss\n",
    "grader.set_answer(\"vmogZ\", s.run(loss, {input_X: X_val_flat, input_y: y_val_oh}))\n",
    "# Validation accuracy\n",
    "grader.set_answer(\"RMv95\", accuracy_score(y_val, s.run(classes, {input_X: X_val_flat})))"
   ]
  },
  {
   "cell_type": "code",
   "execution_count": 30,
   "metadata": {},
   "outputs": [
    {
     "name": "stdout",
     "output_type": "stream",
     "text": [
      "Submitted to Coursera platform. See results on assignment page!\n"
     ]
    }
   ],
   "source": [
    "# you can make submission with answers so far to check yourself at this stage\n",
    "grader.submit(COURSERA_EMAIL, COURSERA_TOKEN)"
   ]
  },
  {
   "cell_type": "markdown",
   "metadata": {},
   "source": [
    "# MLP with hidden layers"
   ]
  },
  {
   "cell_type": "markdown",
   "metadata": {},
   "source": [
    "Previously we've coded a dense layer with matrix multiplication by hand. \n",
    "But this is not convenient, you have to create a lot of variables and your code becomes a mess. \n",
    "In TensorFlow there's an easier way to make a dense layer:\n",
    "```python\n",
    "hidden1 = tf.layers.dense(inputs, 256, activation=tf.nn.sigmoid)\n",
    "```\n",
    "\n",
    "That will create all the necessary variables automatically.\n",
    "Here you can also choose an activation function (remember that we need it for a hidden layer!).\n",
    "\n",
    "Now define the MLP with 2 hidden layers and restart training with the cell above.\n",
    "\n",
    "You're aiming for ~0.97 validation accuracy here."
   ]
  },
  {
   "cell_type": "code",
   "execution_count": 38,
   "metadata": {},
   "outputs": [],
   "source": [
    "# write the code here to get a new `step` operation and then run the cell with training loop above.\n",
    "# name your variables in the same way (e.g. logits, probas, classes, etc) for safety.\n",
    "### YOUR CODE HERE ###\n",
    "s = reset_tf_session()\n",
    "input_X = tf.placeholder(tf.float32, shape=(None,784))\n",
    "input_y = tf.placeholder(tf.float32, shape=(None,10))\n",
    "hidden1 = tf.layers.dense(input_X, 256,activation=tf.nn.sigmoid)\n",
    "hidden2 = tf.layers.dense(hidden1, 256,activation=tf.nn.sigmoid)\n",
    "logits = tf.layers.dense(hidden2, 10)\n",
    "probas = tf.nn.softmax(logits)\n",
    "classes = tf.argmax(probas,1)\n",
    "#print(hidden1.shape,logits.shape, probas.shape, classes.shape)\n",
    "\n",
    "loss = tf.reduce_mean(tf.nn.softmax_cross_entropy_with_logits(labels=input_y, logits=logits))\n",
    "\n",
    "step = tf.train.AdamOptimizer().minimize(loss)\n",
    "\n",
    "s.run(tf.global_variables_initializer())\n",
    "\n",
    "BATCH_SIZE = 512\n",
    "EPOCHS = 40\n",
    "\n",
    "# for logging the progress right here in Jupyter (for those who don't have TensorBoard)\n",
    "simpleTrainingCurves = matplotlib_utils.SimpleTrainingCurves(\"cross-entropy\", \"accuracy\")\n",
    "\n",
    "for epoch in range(EPOCHS):  # we finish an epoch when we've looked at all training samples\n",
    "    \n",
    "    batch_losses = []\n",
    "    for batch_start in range(0, X_train_flat.shape[0], BATCH_SIZE):  # data is already shuffled\n",
    "        _, batch_loss = s.run([step, loss], {input_X: X_train_flat[batch_start:batch_start+BATCH_SIZE], \n",
    "                                             input_y: y_train_oh[batch_start:batch_start+BATCH_SIZE]})\n",
    "        # collect batch losses, this is almost free as we need a forward pass for backprop anyway\n",
    "        batch_losses.append(batch_loss)\n",
    "\n",
    "    train_loss = np.mean(batch_losses)\n",
    "    val_loss = s.run(loss, {input_X: X_val_flat, input_y: y_val_oh})  # this part is usually small\n",
    "    train_accuracy = accuracy_score(y_train, s.run(classes, {input_X: X_train_flat}))  # this is slow and usually skipped\n",
    "    valid_accuracy = accuracy_score(y_val, s.run(classes, {input_X: X_val_flat}))\n",
    "\n"
   ]
  },
  {
   "cell_type": "markdown",
   "metadata": {},
   "source": [
    "# Submit the MLP with 2 hidden layers\n",
    "Run these cells after training the MLP with 2 hidden layers"
   ]
  },
  {
   "cell_type": "code",
   "execution_count": 39,
   "metadata": {
    "collapsed": true
   },
   "outputs": [],
   "source": [
    "## GRADED PART, DO NOT CHANGE!\n",
    "# Validation loss for MLP\n",
    "grader.set_answer(\"i8bgs\", s.run(loss, {input_X: X_val_flat, input_y: y_val_oh}))\n",
    "# Validation accuracy for MLP\n",
    "grader.set_answer(\"rE763\", accuracy_score(y_val, s.run(classes, {input_X: X_val_flat})))"
   ]
  },
  {
   "cell_type": "code",
   "execution_count": 40,
   "metadata": {},
   "outputs": [
    {
     "name": "stdout",
     "output_type": "stream",
     "text": [
      "Submitted to Coursera platform. See results on assignment page!\n"
     ]
    }
   ],
   "source": [
    "# you can make submission with answers so far to check yourself at this stage\n",
    "grader.submit(COURSERA_EMAIL, COURSERA_TOKEN)"
   ]
  }
 ],
 "metadata": {
  "kernelspec": {
   "display_name": "Python 3",
   "language": "python",
   "name": "python3"
  },
  "language_info": {
   "codemirror_mode": {
    "name": "ipython",
    "version": 3
   },
   "file_extension": ".py",
   "mimetype": "text/x-python",
   "name": "python",
   "nbconvert_exporter": "python",
   "pygments_lexer": "ipython3",
   "version": "3.6.2"
  }
 },
 "nbformat": 4,
 "nbformat_minor": 1
}
